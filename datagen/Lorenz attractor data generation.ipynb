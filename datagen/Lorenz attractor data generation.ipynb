{
 "cells": [
  {
   "cell_type": "markdown",
   "id": "dd97d81d",
   "metadata": {},
   "source": [
    "## Import the packages / functions"
   ]
  },
  {
   "cell_type": "code",
   "execution_count": 21,
   "id": "37c307e3",
   "metadata": {},
   "outputs": [],
   "source": [
    "import sys\n",
    "sys.path.append(\"../../neuralflow\") # append the path for the 'neuralflow' directory \n",
    "\n",
    "from jax.config import config\n",
    "\n",
    "config.update(\"jax_log_compiles\", 1)\n",
    "# config.update(\"jax_debug_nans\", True)\n",
    "\n",
    "import jax\n",
    "import jax.numpy as np\n",
    "import matplotlib.pyplot as plt\n",
    "import seaborn as sns\n",
    "from datagen.diffeq import gen_diffeq, vanderpol, lorenz\n",
    "from jax.experimental.optimizers import adam\n",
    "from matplotlib.animation import FuncAnimation\n",
    "from models import kernels\n",
    "from models.rbfn import RBFN\n",
    "from scipy.integrate import solve_ivp\n",
    "\n",
    "from scripts.visualize import draw_vec_bg\n",
    "\n",
    "sns.set()"
   ]
  },
  {
   "cell_type": "code",
   "execution_count": 22,
   "id": "3b1eee4e",
   "metadata": {},
   "outputs": [],
   "source": [
    "from typing import Callable, Optional\n",
    "\n",
    "import matplotlib.pyplot as plt\n",
    "import numpy as np\n",
    "from scipy.integrate import solve_ivp\n",
    "from sklearn.decomposition import PCA\n",
    "\n",
    "from tqdm.notebook import trange\n",
    "\n",
    "from datagen import plots\n",
    "from datagen.diffeq import lorenz\n",
    "\n",
    "\n",
    "def random_proj(initial_dim: int, dim: int, seed=4):\n",
    "    \"\"\"\n",
    "    Generate random Gaussian matrix with normalized columns.\n",
    "    \"\"\"\n",
    "    rand = np.random.default_rng(seed)\n",
    "    t = rand.normal(0, 1, size=(dim, initial_dim))\n",
    "    return (t / np.sum(t, axis=0)).T\n",
    "\n",
    "\n",
    "def random_rotation(initial_dim: int, dim: int, θ: float, seed=4):\n",
    "    rot = np.array(\n",
    "        [\n",
    "            [np.cos(θ), -np.sin(θ)],\n",
    "            [np.sin(θ), np.cos(θ)],\n",
    "        ]\n",
    "    )\n",
    "    out = np.zeros((dim, dim))\n",
    "    out[:2, :2] = rot\n",
    "    rand = np.random.default_rng(seed)\n",
    "    q = np.linalg.qr(rand.normal(0, 1, size=(dim, dim)))[0]\n",
    "    return q @ out @ q.T\n",
    "\n",
    "\n",
    "# fmt: off\n",
    "def gen_data_diffeq(f: Callable, projection: Callable, *, t, x0: np.ndarray, dim: int,\n",
    "                    ivp_kwargs: Optional[dict] = None, proj_kwargs: Optional[dict] = None,\n",
    "                    noise: Optional[str] = None, noise_kwargs: Optional[dict] = None,\n",
    "                    seed=41):  # fmt: skip \n",
    "# fmt: on\n",
    "\n",
    "    \"\"\"Data generation pipeline\n",
    "    Solve dynamical system, project into higher dimension, add noise.\n",
    "    \n",
    "    Args:\n",
    "        f (Callable): Diff function to solve.\n",
    "        projection (Callable): Proj function. Must have signature (initial_dim, dim, **kwargs) and output matrix (initial_dim × dim).\n",
    "        t: Time for diff eq. See solve_ivp documentation.\n",
    "        x0 (np.ndarray): Starting point.\n",
    "        dim (int): Projected number of dimensions.\n",
    "        ivp_args (Optional[dict]): Args to solve_ivp. Defaults to None.\n",
    "        noise (Optional[str]): Name of noise function from https://numpy.org/doc/stable/reference/random/generator.html\n",
    "        noise_params (Optional[dict]): Params to noise function. Defaults to None.\n",
    "        seed (int): Defaults to 41.\n",
    "    Returns:\n",
    "        t, y (t × initial_dim), projected (t × dim)\n",
    "    \"\"\"\n",
    "    if ivp_kwargs is None:\n",
    "        ivp_kwargs = dict()\n",
    "    if proj_kwargs is None:\n",
    "        proj_kwargs = dict()\n",
    "    if noise_kwargs is None:\n",
    "        noise_kwargs = dict()\n",
    "\n",
    "    ivp = solve_ivp(f, t, x0, rtol=1e-6, **ivp_kwargs)\n",
    "\n",
    "    y = ivp[\"y\"].T  # (t × dim)\n",
    "    proj = projection(y.shape[1], dim, **proj_kwargs)\n",
    "    projed = y @ proj\n",
    "\n",
    "    if noise is not None:\n",
    "        rand = np.random.default_rng(seed)\n",
    "        projed += getattr(rand, noise)(**noise_kwargs, size=projed.shape)\n",
    "\n",
    "    return ivp[\"t\"], y, projed"
   ]
  },
  {
   "cell_type": "markdown",
   "id": "6ac288ae",
   "metadata": {},
   "source": [
    "## Lorenz attractor data generation example\n",
    "\n",
    "Dataset starting at 0, so (0:2000)\n",
    "\n",
    "num_trajectory = 100 \n",
    "\n",
    "noise = 0.05"
   ]
  },
  {
   "cell_type": "code",
   "execution_count": 23,
   "id": "8601b352",
   "metadata": {},
   "outputs": [
    {
     "data": {
      "application/vnd.jupyter.widget-view+json": {
       "model_id": "b80c50faf5dd46ce9c2dc61bc13e42a3",
       "version_major": 2,
       "version_minor": 0
      },
      "text/plain": [
       "HBox(children=(HTML(value=''), FloatProgress(value=0.0), HTML(value='')))"
      ]
     },
     "metadata": {},
     "output_type": "display_data"
    },
    {
     "name": "stdout",
     "output_type": "stream",
     "text": [
      "\n"
     ]
    },
    {
     "data": {
      "text/plain": [
       "((100, 2000, 3), (100, 2000, 200))"
      ]
     },
     "execution_count": 23,
     "metadata": {},
     "output_type": "execute_result"
    }
   ],
   "source": [
    "xx = [] # states\n",
    "projeds = [] # observations\n",
    "num_trajectories = 100 # number of trajectories \n",
    "num_dim = 200 # projected dimensinos\n",
    "begin = 0 # change to 500 if you don't want to include first 500\n",
    "end = 2000 # change to 2500 if you changed begin = 500 \n",
    "noise = 0.05 # standard deviation of the gaussian noise \n",
    "for i in trange(num_trajectories):\n",
    "    t, x, projed = gen_data_diffeq(lorenz, random_proj,\n",
    "                                   t=(0, 125), x0=np.array([0, 1, 1.05]), dim=num_dim, noise=\"normal\", \n",
    "                                   ivp_kwargs={'max_step': 0.05},\n",
    "                                   noise_kwargs={\"loc\": 0, \"scale\": noise},)\n",
    "    t = t[begin:end]\n",
    "    xx.append(x[begin:end])\n",
    "    projeds.append(projed[begin:end])\n",
    "    \n",
    "xx = np.stack(xx, axis=0)\n",
    "projeds = np.stack(projeds, axis=0)\n",
    "\n",
    "xx.shape, projeds.shape"
   ]
  },
  {
   "cell_type": "code",
   "execution_count": 24,
   "id": "ac94e067",
   "metadata": {},
   "outputs": [
    {
     "data": {
      "text/plain": [
       "(2000,)"
      ]
     },
     "execution_count": 24,
     "metadata": {},
     "output_type": "execute_result"
    }
   ],
   "source": [
    "t.shape"
   ]
  },
  {
   "cell_type": "code",
   "execution_count": 25,
   "id": "7eb179d5",
   "metadata": {},
   "outputs": [
    {
     "data": {
      "text/plain": [
       "(100, 2000, 3)"
      ]
     },
     "execution_count": 25,
     "metadata": {},
     "output_type": "execute_result"
    }
   ],
   "source": [
    "xx.shape"
   ]
  },
  {
   "cell_type": "code",
   "execution_count": 26,
   "id": "72988845",
   "metadata": {},
   "outputs": [
    {
     "data": {
      "text/plain": [
       "(100, 2000, 200)"
      ]
     },
     "execution_count": 26,
     "metadata": {},
     "output_type": "execute_result"
    }
   ],
   "source": [
    "projeds.shape"
   ]
  },
  {
   "cell_type": "code",
   "execution_count": 27,
   "id": "841090dc",
   "metadata": {},
   "outputs": [
    {
     "data": {
      "image/png": "[encoded data removed]",
      "text/plain": [
       "<Figure size 576x576 with 1 Axes>"
      ]
     },
     "metadata": {},
     "output_type": "display_data"
    },
    {
     "data": {
      "text/plain": [
       "11414.20964773698"
      ]
     },
     "execution_count": 27,
     "metadata": {},
     "output_type": "execute_result"
    }
   ],
   "source": [
    "fig = plt.figure(figsize=(8, 8))\n",
    "ax = fig.add_subplot(111, projection='3d')\n",
    "ax.plot(*xx[11].T)\n",
    "\n",
    "plt.show()\n",
    "np.linalg.norm(np.diff(x, axis=-2), axis=-1).sum(axis=-1)"
   ]
  },
  {
   "cell_type": "code",
   "execution_count": 28,
   "id": "6e1b5c42",
   "metadata": {},
   "outputs": [],
   "source": [
    "xs = xx\n",
    "ys = projeds\n",
    "us = np.zeros((xx.shape[0], xx.shape[1], 1))"
   ]
  },
  {
   "cell_type": "code",
   "execution_count": 29,
   "id": "58408af0",
   "metadata": {},
   "outputs": [],
   "source": [
    "filename = f\"lorenz_{num_trajectories}trajectories_{num_dim}dim_{begin}to{end}_noise{noise}.npz\"\n",
    "np.savez(filename, x = xs, y = ys, u = us)"
   ]
  },
  {
   "cell_type": "markdown",
   "id": "1dc64131",
   "metadata": {},
   "source": [
    "## Now let's make a bunch"
   ]
  },
  {
   "cell_type": "code",
   "execution_count": 30,
   "id": "d3cb4f71",
   "metadata": {},
   "outputs": [],
   "source": [
    "def make_lorenz_dataset(num_trajectories, num_dim, begin, end, noise):\n",
    "    xx = [] # states\n",
    "    projeds = [] # observations\n",
    "\n",
    "    for i in trange(num_trajectories):\n",
    "        t, x, projed = gen_data_diffeq(lorenz, random_proj,\n",
    "                                       t=(0, 125), x0=np.array([0, 1, 1.05]), dim=num_dim, noise=\"normal\", \n",
    "                                       ivp_kwargs={'max_step': 0.05},\n",
    "                                       noise_kwargs={\"loc\": 0, \"scale\": noise},)\n",
    "        t = t[begin:end]\n",
    "        xx.append(x[begin:end])\n",
    "        projeds.append(projed[begin:end])\n",
    "\n",
    "    xx = np.stack(xx, axis=0)\n",
    "    projeds = np.stack(projeds, axis=0)\n",
    "\n",
    "    xs = xx\n",
    "    ys = projeds\n",
    "    us = np.zeros((xx.shape[0], xx.shape[1], 1))\n",
    "\n",
    "    filename = f\"lorenz_{num_trajectories}trajectories_{num_dim}dim_{begin}to{end}_noise{noise}.npz\"\n",
    "    np.savez(filename, x = xs, y = ys, u = us)"
   ]
  },
  {
   "cell_type": "markdown",
   "id": "2117c520",
   "metadata": {},
   "source": [
    "* begin/end: not ommiting first 500 --> begin=0, end=2000   OR   ommiting first 500 --> begin:500, end=2500\n",
    "\n",
    "* num_trajectory = 1   OR  100  \n",
    "\n",
    "* noise level: noise = 0.05   OR   0.2    OR    1\n",
    "(0.05 is the value Anne used, 1 is the value that memming's lab used)\n",
    "\n",
    "* num_dim = 1 OR 200 \n",
    "(200 is the value that memming's lab used)\n",
    "\n",
    "2 x 2 x 3 x 2 = 24 example datasets"
   ]
  },
  {
   "cell_type": "code",
   "execution_count": 31,
   "id": "f82f109e",
   "metadata": {},
   "outputs": [
    {
     "data": {
      "application/vnd.jupyter.widget-view+json": {
       "model_id": "efeed105aa954d61967b5b558bda48b8",
       "version_major": 2,
       "version_minor": 0
      },
      "text/plain": [
       "HBox(children=(HTML(value=''), FloatProgress(value=0.0, max=1.0), HTML(value='')))"
      ]
     },
     "metadata": {},
     "output_type": "display_data"
    },
    {
     "name": "stdout",
     "output_type": "stream",
     "text": [
      "\n"
     ]
    },
    {
     "data": {
      "application/vnd.jupyter.widget-view+json": {
       "model_id": "bfd575c3ddc84f18a09e7b115b9d77c1",
       "version_major": 2,
       "version_minor": 0
      },
      "text/plain": [
       "HBox(children=(HTML(value=''), FloatProgress(value=0.0, max=1.0), HTML(value='')))"
      ]
     },
     "metadata": {},
     "output_type": "display_data"
    },
    {
     "name": "stdout",
     "output_type": "stream",
     "text": [
      "\n"
     ]
    },
    {
     "data": {
      "application/vnd.jupyter.widget-view+json": {
       "model_id": "6cc89388897d4efa9d3f4bca10d88867",
       "version_major": 2,
       "version_minor": 0
      },
      "text/plain": [
       "HBox(children=(HTML(value=''), FloatProgress(value=0.0, max=1.0), HTML(value='')))"
      ]
     },
     "metadata": {},
     "output_type": "display_data"
    },
    {
     "name": "stdout",
     "output_type": "stream",
     "text": [
      "\n"
     ]
    },
    {
     "data": {
      "application/vnd.jupyter.widget-view+json": {
       "model_id": "a17e9e116d86485f9873fd6fca238264",
       "version_major": 2,
       "version_minor": 0
      },
      "text/plain": [
       "HBox(children=(HTML(value=''), FloatProgress(value=0.0, max=1.0), HTML(value='')))"
      ]
     },
     "metadata": {},
     "output_type": "display_data"
    },
    {
     "name": "stdout",
     "output_type": "stream",
     "text": [
      "\n"
     ]
    },
    {
     "data": {
      "application/vnd.jupyter.widget-view+json": {
       "model_id": "58023baa820c4ebfb068527ce6afd135",
       "version_major": 2,
       "version_minor": 0
      },
      "text/plain": [
       "HBox(children=(HTML(value=''), FloatProgress(value=0.0, max=1.0), HTML(value='')))"
      ]
     },
     "metadata": {},
     "output_type": "display_data"
    },
    {
     "name": "stdout",
     "output_type": "stream",
     "text": [
      "\n"
     ]
    },
    {
     "data": {
      "application/vnd.jupyter.widget-view+json": {
       "model_id": "5fcc5acc959d48ecab999fe7db9daa8e",
       "version_major": 2,
       "version_minor": 0
      },
      "text/plain": [
       "HBox(children=(HTML(value=''), FloatProgress(value=0.0, max=1.0), HTML(value='')))"
      ]
     },
     "metadata": {},
     "output_type": "display_data"
    },
    {
     "name": "stdout",
     "output_type": "stream",
     "text": [
      "\n"
     ]
    },
    {
     "data": {
      "application/vnd.jupyter.widget-view+json": {
       "model_id": "2f6529e6fc214c5db8fa1e5680bad047",
       "version_major": 2,
       "version_minor": 0
      },
      "text/plain": [
       "HBox(children=(HTML(value=''), FloatProgress(value=0.0, max=1.0), HTML(value='')))"
      ]
     },
     "metadata": {},
     "output_type": "display_data"
    },
    {
     "name": "stdout",
     "output_type": "stream",
     "text": [
      "\n"
     ]
    },
    {
     "data": {
      "application/vnd.jupyter.widget-view+json": {
       "model_id": "56403e774e794718b0f2fb7ccb94b934",
       "version_major": 2,
       "version_minor": 0
      },
      "text/plain": [
       "HBox(children=(HTML(value=''), FloatProgress(value=0.0, max=1.0), HTML(value='')))"
      ]
     },
     "metadata": {},
     "output_type": "display_data"
    },
    {
     "name": "stdout",
     "output_type": "stream",
     "text": [
      "\n"
     ]
    },
    {
     "data": {
      "application/vnd.jupyter.widget-view+json": {
       "model_id": "cd19bea0e5b142d3b21a513ddd64fb64",
       "version_major": 2,
       "version_minor": 0
      },
      "text/plain": [
       "HBox(children=(HTML(value=''), FloatProgress(value=0.0, max=1.0), HTML(value='')))"
      ]
     },
     "metadata": {},
     "output_type": "display_data"
    },
    {
     "name": "stdout",
     "output_type": "stream",
     "text": [
      "\n"
     ]
    },
    {
     "data": {
      "application/vnd.jupyter.widget-view+json": {
       "model_id": "d1d949daea4745088cb0114b0fa6835e",
       "version_major": 2,
       "version_minor": 0
      },
      "text/plain": [
       "HBox(children=(HTML(value=''), FloatProgress(value=0.0, max=1.0), HTML(value='')))"
      ]
     },
     "metadata": {},
     "output_type": "display_data"
    },
    {
     "name": "stdout",
     "output_type": "stream",
     "text": [
      "\n"
     ]
    },
    {
     "data": {
      "application/vnd.jupyter.widget-view+json": {
       "model_id": "cc2dc0f08ae141b5bcf4079fa7e625f1",
       "version_major": 2,
       "version_minor": 0
      },
      "text/plain": [
       "HBox(children=(HTML(value=''), FloatProgress(value=0.0, max=1.0), HTML(value='')))"
      ]
     },
     "metadata": {},
     "output_type": "display_data"
    },
    {
     "name": "stdout",
     "output_type": "stream",
     "text": [
      "\n"
     ]
    },
    {
     "data": {
      "application/vnd.jupyter.widget-view+json": {
       "model_id": "b1d679c292ab4bc0a1e5bcec95eafd63",
       "version_major": 2,
       "version_minor": 0
      },
      "text/plain": [
       "HBox(children=(HTML(value=''), FloatProgress(value=0.0, max=1.0), HTML(value='')))"
      ]
     },
     "metadata": {},
     "output_type": "display_data"
    },
    {
     "name": "stdout",
     "output_type": "stream",
     "text": [
      "\n"
     ]
    },
    {
     "data": {
      "application/vnd.jupyter.widget-view+json": {
       "model_id": "0d14a1fd196c4ce683d9f1c6622458ce",
       "version_major": 2,
       "version_minor": 0
      },
      "text/plain": [
       "HBox(children=(HTML(value=''), FloatProgress(value=0.0), HTML(value='')))"
      ]
     },
     "metadata": {},
     "output_type": "display_data"
    },
    {
     "name": "stdout",
     "output_type": "stream",
     "text": [
      "\n"
     ]
    },
    {
     "data": {
      "application/vnd.jupyter.widget-view+json": {
       "model_id": "bf6618e93508450a861560e21492f103",
       "version_major": 2,
       "version_minor": 0
      },
      "text/plain": [
       "HBox(children=(HTML(value=''), FloatProgress(value=0.0), HTML(value='')))"
      ]
     },
     "metadata": {},
     "output_type": "display_data"
    },
    {
     "name": "stdout",
     "output_type": "stream",
     "text": [
      "\n"
     ]
    },
    {
     "data": {
      "application/vnd.jupyter.widget-view+json": {
       "model_id": "8c41f299128d4a8ebe858048bac89dab",
       "version_major": 2,
       "version_minor": 0
      },
      "text/plain": [
       "HBox(children=(HTML(value=''), FloatProgress(value=0.0), HTML(value='')))"
      ]
     },
     "metadata": {},
     "output_type": "display_data"
    },
    {
     "name": "stdout",
     "output_type": "stream",
     "text": [
      "\n"
     ]
    },
    {
     "data": {
      "application/vnd.jupyter.widget-view+json": {
       "model_id": "cc443baea37b44c2878f90230516ff02",
       "version_major": 2,
       "version_minor": 0
      },
      "text/plain": [
       "HBox(children=(HTML(value=''), FloatProgress(value=0.0), HTML(value='')))"
      ]
     },
     "metadata": {},
     "output_type": "display_data"
    },
    {
     "name": "stdout",
     "output_type": "stream",
     "text": [
      "\n"
     ]
    },
    {
     "data": {
      "application/vnd.jupyter.widget-view+json": {
       "model_id": "8166041325db41099dc02136f5fbf646",
       "version_major": 2,
       "version_minor": 0
      },
      "text/plain": [
       "HBox(children=(HTML(value=''), FloatProgress(value=0.0), HTML(value='')))"
      ]
     },
     "metadata": {},
     "output_type": "display_data"
    },
    {
     "name": "stdout",
     "output_type": "stream",
     "text": [
      "\n"
     ]
    },
    {
     "data": {
      "application/vnd.jupyter.widget-view+json": {
       "model_id": "5980d8d77d544a468e069e9f10bdddf4",
       "version_major": 2,
       "version_minor": 0
      },
      "text/plain": [
       "HBox(children=(HTML(value=''), FloatProgress(value=0.0), HTML(value='')))"
      ]
     },
     "metadata": {},
     "output_type": "display_data"
    },
    {
     "name": "stdout",
     "output_type": "stream",
     "text": [
      "\n"
     ]
    },
    {
     "data": {
      "application/vnd.jupyter.widget-view+json": {
       "model_id": "557614fd6d614f59a5a0c9f4f07b0c73",
       "version_major": 2,
       "version_minor": 0
      },
      "text/plain": [
       "HBox(children=(HTML(value=''), FloatProgress(value=0.0), HTML(value='')))"
      ]
     },
     "metadata": {},
     "output_type": "display_data"
    },
    {
     "name": "stdout",
     "output_type": "stream",
     "text": [
      "\n"
     ]
    },
    {
     "data": {
      "application/vnd.jupyter.widget-view+json": {
       "model_id": "29e4337dede6486d9a10d208299e36e0",
       "version_major": 2,
       "version_minor": 0
      },
      "text/plain": [
       "HBox(children=(HTML(value=''), FloatProgress(value=0.0), HTML(value='')))"
      ]
     },
     "metadata": {},
     "output_type": "display_data"
    },
    {
     "name": "stdout",
     "output_type": "stream",
     "text": [
      "\n"
     ]
    },
    {
     "data": {
      "application/vnd.jupyter.widget-view+json": {
       "model_id": "a9ad27b02b4743ea8d200e8be79bb1ce",
       "version_major": 2,
       "version_minor": 0
      },
      "text/plain": [
       "HBox(children=(HTML(value=''), FloatProgress(value=0.0), HTML(value='')))"
      ]
     },
     "metadata": {},
     "output_type": "display_data"
    },
    {
     "name": "stdout",
     "output_type": "stream",
     "text": [
      "\n"
     ]
    },
    {
     "data": {
      "application/vnd.jupyter.widget-view+json": {
       "model_id": "a6bf5e8e42d04a7f9b1a1fa4b6b32242",
       "version_major": 2,
       "version_minor": 0
      },
      "text/plain": [
       "HBox(children=(HTML(value=''), FloatProgress(value=0.0), HTML(value='')))"
      ]
     },
     "metadata": {},
     "output_type": "display_data"
    },
    {
     "name": "stdout",
     "output_type": "stream",
     "text": [
      "\n"
     ]
    },
    {
     "data": {
      "application/vnd.jupyter.widget-view+json": {
       "model_id": "a71ead6463484f1a89524d1f2ccf64c3",
       "version_major": 2,
       "version_minor": 0
      },
      "text/plain": [
       "HBox(children=(HTML(value=''), FloatProgress(value=0.0), HTML(value='')))"
      ]
     },
     "metadata": {},
     "output_type": "display_data"
    },
    {
     "name": "stdout",
     "output_type": "stream",
     "text": [
      "\n"
     ]
    },
    {
     "data": {
      "application/vnd.jupyter.widget-view+json": {
       "model_id": "b4cf9d8d04d24b5ebfaa72ca1ff4464e",
       "version_major": 2,
       "version_minor": 0
      },
      "text/plain": [
       "HBox(children=(HTML(value=''), FloatProgress(value=0.0), HTML(value='')))"
      ]
     },
     "metadata": {},
     "output_type": "display_data"
    },
    {
     "name": "stdout",
     "output_type": "stream",
     "text": [
      "\n"
     ]
    }
   ],
   "source": [
    "for num_trajectory in [1, 100]:\n",
    "    for (begin, end) in [(0, 2000), (500, 2500)]:\n",
    "        for noise in [0.05, 0.2, 1]:\n",
    "            for num_dim in [1, 200]:\n",
    "                make_lorenz_dataset(num_trajectories=num_trajectory, num_dim=num_dim, begin=begin, end=end, noise=noise)"
   ]
  },
  {
   "cell_type": "code",
   "execution_count": null,
   "id": "7b5dcb12",
   "metadata": {},
   "outputs": [],
   "source": []
  }
 ],
 "metadata": {
  "kernelspec": {
   "display_name": "Python 3",
   "language": "python",
   "name": "python3"
  },
  "language_info": {
   "codemirror_mode": {
    "name": "ipython",
    "version": 3
   },
   "file_extension": ".py",
   "mimetype": "text/x-python",
   "name": "python",
   "nbconvert_exporter": "python",
   "pygments_lexer": "ipython3",
   "version": "3.7.9"
  }
 },
 "nbformat": 4,
 "nbformat_minor": 5
}
