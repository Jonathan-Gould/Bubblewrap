{
 "cells": [
  {
   "cell_type": "markdown",
   "id": "fcac337f",
   "metadata": {},
   "source": [
    "## Import the packages / functions"
   ]
  },
  {
   "cell_type": "code",
   "execution_count": 22,
   "id": "97113860",
   "metadata": {},
   "outputs": [],
   "source": [
    "import sys\n",
    "sys.path.append(\"../../neuralflow\") # append the path for the 'neuralflow' directory \n",
    "\n",
    "from jax.config import config\n",
    "\n",
    "config.update(\"jax_log_compiles\", 1)\n",
    "# config.update(\"jax_debug_nans\", True)\n",
    "\n",
    "import jax\n",
    "import jax.numpy as np\n",
    "import matplotlib.pyplot as plt\n",
    "import seaborn as sns\n",
    "from datagen.diffeq import gen_diffeq, vanderpol, lorenz\n",
    "from jax.experimental.optimizers import adam\n",
    "from matplotlib.animation import FuncAnimation\n",
    "from models import kernels\n",
    "from models.rbfn import RBFN\n",
    "from scipy.integrate import solve_ivp\n",
    "\n",
    "from scripts.visualize import draw_vec_bg\n",
    "\n",
    "sns.set()"
   ]
  },
  {
   "cell_type": "code",
   "execution_count": 23,
   "id": "0e5c9247",
   "metadata": {},
   "outputs": [],
   "source": [
    "from typing import Callable, Optional\n",
    "\n",
    "import matplotlib.pyplot as plt\n",
    "import numpy as np\n",
    "from scipy.integrate import solve_ivp\n",
    "from sklearn.decomposition import PCA\n",
    "\n",
    "from tqdm.notebook import trange\n",
    "\n",
    "from datagen import plots\n",
    "from datagen.diffeq import lorenz\n",
    "\n",
    "\n",
    "def random_proj(initial_dim: int, dim: int, seed=4):\n",
    "    \"\"\"\n",
    "    Generate random Gaussian matrix with normalized columns.\n",
    "    \"\"\"\n",
    "    rand = np.random.default_rng(seed)\n",
    "    t = rand.normal(0, 1, size=(dim, initial_dim))\n",
    "    return (t / np.sum(t, axis=0)).T\n",
    "\n",
    "\n",
    "def random_rotation(initial_dim: int, dim: int, θ: float, seed=4):\n",
    "    rot = np.array(\n",
    "        [\n",
    "            [np.cos(θ), -np.sin(θ)],\n",
    "            [np.sin(θ), np.cos(θ)],\n",
    "        ]\n",
    "    )\n",
    "    out = np.zeros((dim, dim))\n",
    "    out[:2, :2] = rot\n",
    "    rand = np.random.default_rng(seed)\n",
    "    q = np.linalg.qr(rand.normal(0, 1, size=(dim, dim)))[0]\n",
    "    return q @ out @ q.T\n",
    "\n",
    "\n",
    "# fmt: off\n",
    "def gen_data_diffeq(f: Callable, projection: Callable, *, t, x0: np.ndarray, dim: int,\n",
    "                    ivp_kwargs: Optional[dict] = None, proj_kwargs: Optional[dict] = None,\n",
    "                    noise: Optional[str] = None, noise_kwargs: Optional[dict] = None,\n",
    "                    seed=41):  # fmt: skip \n",
    "# fmt: on\n",
    "\n",
    "    \"\"\"Data generation pipeline\n",
    "    Solve dynamical system, project into higher dimension, add noise.\n",
    "    \n",
    "    Args:\n",
    "        f (Callable): Diff function to solve.\n",
    "        projection (Callable): Proj function. Must have signature (initial_dim, dim, **kwargs) and output matrix (initial_dim × dim).\n",
    "        t: Time for diff eq. See solve_ivp documentation.\n",
    "        x0 (np.ndarray): Starting point.\n",
    "        dim (int): Projected number of dimensions.\n",
    "        ivp_args (Optional[dict]): Args to solve_ivp. Defaults to None.\n",
    "        noise (Optional[str]): Name of noise function from https://numpy.org/doc/stable/reference/random/generator.html\n",
    "        noise_params (Optional[dict]): Params to noise function. Defaults to None.\n",
    "        seed (int): Defaults to 41.\n",
    "    Returns:\n",
    "        t, y (t × initial_dim), projected (t × dim)\n",
    "    \"\"\"\n",
    "    if ivp_kwargs is None:\n",
    "        ivp_kwargs = dict()\n",
    "    if proj_kwargs is None:\n",
    "        proj_kwargs = dict()\n",
    "    if noise_kwargs is None:\n",
    "        noise_kwargs = dict()\n",
    "\n",
    "    ivp = solve_ivp(f, t, x0, rtol=1e-6, **ivp_kwargs)\n",
    "\n",
    "    y = ivp[\"y\"].T  # (t × dim)\n",
    "    proj = projection(y.shape[1], dim, **proj_kwargs)\n",
    "    projed = y @ proj\n",
    "\n",
    "    if noise is not None:\n",
    "        rand = np.random.default_rng(seed)\n",
    "        projed += getattr(rand, noise)(**noise_kwargs, size=projed.shape)\n",
    "\n",
    "    return ivp[\"t\"], y, projed"
   ]
  },
  {
   "cell_type": "markdown",
   "id": "55c317d6",
   "metadata": {},
   "source": [
    "## Vanderpol data generation example\n",
    "\n",
    "Dataset starting at 0, so (0:2000)\n",
    "\n",
    "num_trajectory = 100 \n",
    "\n",
    "noise = 0.05"
   ]
  },
  {
   "cell_type": "code",
   "execution_count": 24,
   "id": "95fa86dd",
   "metadata": {},
   "outputs": [
    {
     "data": {
      "application/vnd.jupyter.widget-view+json": {
       "model_id": "7e5452843e4d454e85f5c8019d827168",
       "version_major": 2,
       "version_minor": 0
      },
      "text/plain": [
       "HBox(children=(HTML(value=''), FloatProgress(value=0.0), HTML(value='')))"
      ]
     },
     "metadata": {},
     "output_type": "display_data"
    },
    {
     "name": "stdout",
     "output_type": "stream",
     "text": [
      "\n"
     ]
    },
    {
     "data": {
      "text/plain": [
       "((100, 2000, 2), (100, 2000, 200))"
      ]
     },
     "execution_count": 24,
     "metadata": {},
     "output_type": "execute_result"
    }
   ],
   "source": [
    "xx = [] # states\n",
    "projeds = [] # observations\n",
    "num_trajectories = 100 # number of trajectories \n",
    "num_dim = 200 # projected dimensinos\n",
    "begin = 0 # change to 500 if you don't want to include first 500\n",
    "end = 2000 # change to 2500 if you changed begin = 500 \n",
    "noise = 0.05 # standard deviation of the gaussian noise \n",
    "\n",
    "for i in trange(num_trajectories):\n",
    "    t, x, projed = gen_data_diffeq(vanderpol, random_proj,\n",
    "                                   t=(0, 125), x0=np.array([0.1, 0.1]), dim=num_dim, noise=\"normal\", \n",
    "                                   ivp_kwargs={'max_step': 0.05},\n",
    "                                   noise_kwargs={\"loc\": 0, \"scale\": noise},)\n",
    "    t = t[begin:end]\n",
    "    xx.append(x[begin:end])\n",
    "    projeds.append(projed[begin:end])\n",
    "    \n",
    "xx = np.stack(xx, axis=0)\n",
    "projeds = np.stack(projeds, axis=0)\n",
    "\n",
    "xx.shape, projeds.shape"
   ]
  },
  {
   "cell_type": "code",
   "execution_count": 25,
   "id": "06382f47",
   "metadata": {},
   "outputs": [
    {
     "data": {
      "text/plain": [
       "(2000,)"
      ]
     },
     "execution_count": 25,
     "metadata": {},
     "output_type": "execute_result"
    }
   ],
   "source": [
    "t.shape"
   ]
  },
  {
   "cell_type": "code",
   "execution_count": 26,
   "id": "47ab7951",
   "metadata": {},
   "outputs": [
    {
     "data": {
      "text/plain": [
       "(100, 2000, 2)"
      ]
     },
     "execution_count": 26,
     "metadata": {},
     "output_type": "execute_result"
    }
   ],
   "source": [
    "xx.shape"
   ]
  },
  {
   "cell_type": "code",
   "execution_count": 27,
   "id": "a1431d83",
   "metadata": {},
   "outputs": [
    {
     "data": {
      "text/plain": [
       "(100, 2000, 200)"
      ]
     },
     "execution_count": 27,
     "metadata": {},
     "output_type": "execute_result"
    }
   ],
   "source": [
    "projeds.shape"
   ]
  },
  {
   "cell_type": "code",
   "execution_count": 28,
   "id": "99ed0252",
   "metadata": {},
   "outputs": [
    {
     "data": {
      "image/png": "[encoded data removed]",
      "text/plain": [
       "<Figure size 576x576 with 1 Axes>"
      ]
     },
     "metadata": {},
     "output_type": "display_data"
    },
    {
     "data": {
      "text/plain": [
       "258.1741862994224"
      ]
     },
     "execution_count": 28,
     "metadata": {},
     "output_type": "execute_result"
    }
   ],
   "source": [
    "fig = plt.figure(figsize=(8, 8))\n",
    "ax = fig.add_subplot(111, projection='3d')\n",
    "ax.plot(*xx[11].T)\n",
    "\n",
    "plt.show()\n",
    "np.linalg.norm(np.diff(x, axis=-2), axis=-1).sum(axis=-1)"
   ]
  },
  {
   "cell_type": "code",
   "execution_count": 29,
   "id": "b37eb29c",
   "metadata": {},
   "outputs": [],
   "source": [
    "xs = xx\n",
    "ys = projeds\n",
    "us = np.zeros((xx.shape[0], xx.shape[1], 1))"
   ]
  },
  {
   "cell_type": "code",
   "execution_count": 30,
   "id": "aa181e06",
   "metadata": {},
   "outputs": [],
   "source": [
    "filename = f\"vdp_{num_trajectories}trajectories_{num_dim}dim_{begin}to{end}_noise{noise}.npz\"\n",
    "np.savez(filename, x = xs, y = ys, u = us)"
   ]
  },
  {
   "cell_type": "markdown",
   "id": "c26e4810",
   "metadata": {},
   "source": [
    "## Now let's make a bunch"
   ]
  },
  {
   "cell_type": "code",
   "execution_count": 31,
   "id": "fb74fb43",
   "metadata": {},
   "outputs": [],
   "source": [
    "def make_vdp_dataset(num_trajectories, num_dim, begin, end, noise):\n",
    "    xx = [] # states\n",
    "    projeds = [] # observations\n",
    "\n",
    "    for i in trange(num_trajectories):\n",
    "        t, x, projed = gen_data_diffeq(vanderpol, random_proj,\n",
    "                                       t=(0, 125), x0=np.array([0.1, 0.1]), dim=num_dim, noise=\"normal\", \n",
    "                                       ivp_kwargs={'max_step': 0.05},\n",
    "                                       noise_kwargs={\"loc\": 0, \"scale\": noise},)\n",
    "        t = t[begin:end]\n",
    "        xx.append(x[begin:end])\n",
    "        projeds.append(projed[begin:end])\n",
    "\n",
    "    xx = np.stack(xx, axis=0)\n",
    "    projeds = np.stack(projeds, axis=0)\n",
    "\n",
    "    xs = xx\n",
    "    ys = projeds\n",
    "    us = np.zeros((xx.shape[0], xx.shape[1], 1))\n",
    "\n",
    "    filename = f\"vdp_{num_trajectories}trajectories_{num_dim}dim_{begin}to{end}_noise{noise}.npz\"\n",
    "    np.savez(filename, x = xs, y = ys, u = us)"
   ]
  },
  {
   "cell_type": "markdown",
   "id": "e28eb3f5",
   "metadata": {},
   "source": [
    "* begin/end: not ommiting first 500 --> begin=0, end=2000   OR   ommiting first 500 --> begin:500, end=2500\n",
    "\n",
    "* num_trajectory = 1   OR  100  \n",
    "\n",
    "* noise level: noise = 0.05   OR   0.2    OR    1\n",
    "(0.05 is the value Anne used, 1 is the value that memming's lab used)\n",
    "\n",
    "* num_dim = 1 OR 200 \n",
    "(200 is the value that memming's lab used)\n",
    "\n",
    "2 x 2 x 3 x 2 = 24 example datasets"
   ]
  },
  {
   "cell_type": "code",
   "execution_count": 32,
   "id": "ff2b468a",
   "metadata": {},
   "outputs": [
    {
     "data": {
      "application/vnd.jupyter.widget-view+json": {
       "model_id": "8e5f729efa4a41c594df3a102d78b910",
       "version_major": 2,
       "version_minor": 0
      },
      "text/plain": [
       "HBox(children=(HTML(value=''), FloatProgress(value=0.0, max=1.0), HTML(value='')))"
      ]
     },
     "metadata": {},
     "output_type": "display_data"
    },
    {
     "name": "stdout",
     "output_type": "stream",
     "text": [
      "\n"
     ]
    },
    {
     "data": {
      "application/vnd.jupyter.widget-view+json": {
       "model_id": "345c9c3d791e44159f0cac284d75daec",
       "version_major": 2,
       "version_minor": 0
      },
      "text/plain": [
       "HBox(children=(HTML(value=''), FloatProgress(value=0.0, max=1.0), HTML(value='')))"
      ]
     },
     "metadata": {},
     "output_type": "display_data"
    },
    {
     "name": "stdout",
     "output_type": "stream",
     "text": [
      "\n"
     ]
    },
    {
     "data": {
      "application/vnd.jupyter.widget-view+json": {
       "model_id": "df9a1ab42f724ba8a4b40f457031afd4",
       "version_major": 2,
       "version_minor": 0
      },
      "text/plain": [
       "HBox(children=(HTML(value=''), FloatProgress(value=0.0, max=1.0), HTML(value='')))"
      ]
     },
     "metadata": {},
     "output_type": "display_data"
    },
    {
     "name": "stdout",
     "output_type": "stream",
     "text": [
      "\n"
     ]
    },
    {
     "data": {
      "application/vnd.jupyter.widget-view+json": {
       "model_id": "99257a613dd041eba8fe1b407ca9c3a8",
       "version_major": 2,
       "version_minor": 0
      },
      "text/plain": [
       "HBox(children=(HTML(value=''), FloatProgress(value=0.0, max=1.0), HTML(value='')))"
      ]
     },
     "metadata": {},
     "output_type": "display_data"
    },
    {
     "name": "stdout",
     "output_type": "stream",
     "text": [
      "\n"
     ]
    },
    {
     "data": {
      "application/vnd.jupyter.widget-view+json": {
       "model_id": "51e9ef7928f34e33a5b1f7aa1c75f4cb",
       "version_major": 2,
       "version_minor": 0
      },
      "text/plain": [
       "HBox(children=(HTML(value=''), FloatProgress(value=0.0, max=1.0), HTML(value='')))"
      ]
     },
     "metadata": {},
     "output_type": "display_data"
    },
    {
     "name": "stdout",
     "output_type": "stream",
     "text": [
      "\n"
     ]
    },
    {
     "data": {
      "application/vnd.jupyter.widget-view+json": {
       "model_id": "2857b74da2404a269663d8ffd8041f0f",
       "version_major": 2,
       "version_minor": 0
      },
      "text/plain": [
       "HBox(children=(HTML(value=''), FloatProgress(value=0.0, max=1.0), HTML(value='')))"
      ]
     },
     "metadata": {},
     "output_type": "display_data"
    },
    {
     "name": "stdout",
     "output_type": "stream",
     "text": [
      "\n"
     ]
    },
    {
     "data": {
      "application/vnd.jupyter.widget-view+json": {
       "model_id": "4649db59e7534c44aa2a1b00087a4455",
       "version_major": 2,
       "version_minor": 0
      },
      "text/plain": [
       "HBox(children=(HTML(value=''), FloatProgress(value=0.0, max=1.0), HTML(value='')))"
      ]
     },
     "metadata": {},
     "output_type": "display_data"
    },
    {
     "name": "stdout",
     "output_type": "stream",
     "text": [
      "\n"
     ]
    },
    {
     "data": {
      "application/vnd.jupyter.widget-view+json": {
       "model_id": "71ee41a221f647cb857f4bcf3ce6a348",
       "version_major": 2,
       "version_minor": 0
      },
      "text/plain": [
       "HBox(children=(HTML(value=''), FloatProgress(value=0.0, max=1.0), HTML(value='')))"
      ]
     },
     "metadata": {},
     "output_type": "display_data"
    },
    {
     "name": "stdout",
     "output_type": "stream",
     "text": [
      "\n"
     ]
    },
    {
     "data": {
      "application/vnd.jupyter.widget-view+json": {
       "model_id": "ffd820e38c2c4aba8d504d6044ab107d",
       "version_major": 2,
       "version_minor": 0
      },
      "text/plain": [
       "HBox(children=(HTML(value=''), FloatProgress(value=0.0, max=1.0), HTML(value='')))"
      ]
     },
     "metadata": {},
     "output_type": "display_data"
    },
    {
     "name": "stdout",
     "output_type": "stream",
     "text": [
      "\n"
     ]
    },
    {
     "data": {
      "application/vnd.jupyter.widget-view+json": {
       "model_id": "ca5ad672c94b4ffa9e40d84e9329bd18",
       "version_major": 2,
       "version_minor": 0
      },
      "text/plain": [
       "HBox(children=(HTML(value=''), FloatProgress(value=0.0, max=1.0), HTML(value='')))"
      ]
     },
     "metadata": {},
     "output_type": "display_data"
    },
    {
     "name": "stdout",
     "output_type": "stream",
     "text": [
      "\n"
     ]
    },
    {
     "data": {
      "application/vnd.jupyter.widget-view+json": {
       "model_id": "8781fbeac83940a0a0a4d4f06b6f7dca",
       "version_major": 2,
       "version_minor": 0
      },
      "text/plain": [
       "HBox(children=(HTML(value=''), FloatProgress(value=0.0, max=1.0), HTML(value='')))"
      ]
     },
     "metadata": {},
     "output_type": "display_data"
    },
    {
     "name": "stdout",
     "output_type": "stream",
     "text": [
      "\n"
     ]
    },
    {
     "data": {
      "application/vnd.jupyter.widget-view+json": {
       "model_id": "4dc803aa9dfc42288a44e2b6aaa5660f",
       "version_major": 2,
       "version_minor": 0
      },
      "text/plain": [
       "HBox(children=(HTML(value=''), FloatProgress(value=0.0, max=1.0), HTML(value='')))"
      ]
     },
     "metadata": {},
     "output_type": "display_data"
    },
    {
     "name": "stdout",
     "output_type": "stream",
     "text": [
      "\n"
     ]
    },
    {
     "data": {
      "application/vnd.jupyter.widget-view+json": {
       "model_id": "dd7c197a2ac84b52baaad387b0c5243e",
       "version_major": 2,
       "version_minor": 0
      },
      "text/plain": [
       "HBox(children=(HTML(value=''), FloatProgress(value=0.0), HTML(value='')))"
      ]
     },
     "metadata": {},
     "output_type": "display_data"
    },
    {
     "name": "stdout",
     "output_type": "stream",
     "text": [
      "\n"
     ]
    },
    {
     "data": {
      "application/vnd.jupyter.widget-view+json": {
       "model_id": "3df90375d90f4d2baa5da373841d48a4",
       "version_major": 2,
       "version_minor": 0
      },
      "text/plain": [
       "HBox(children=(HTML(value=''), FloatProgress(value=0.0), HTML(value='')))"
      ]
     },
     "metadata": {},
     "output_type": "display_data"
    },
    {
     "name": "stdout",
     "output_type": "stream",
     "text": [
      "\n"
     ]
    },
    {
     "data": {
      "application/vnd.jupyter.widget-view+json": {
       "model_id": "d9a1a7edb80a48089d49674cc1b2c73f",
       "version_major": 2,
       "version_minor": 0
      },
      "text/plain": [
       "HBox(children=(HTML(value=''), FloatProgress(value=0.0), HTML(value='')))"
      ]
     },
     "metadata": {},
     "output_type": "display_data"
    },
    {
     "name": "stdout",
     "output_type": "stream",
     "text": [
      "\n"
     ]
    },
    {
     "data": {
      "application/vnd.jupyter.widget-view+json": {
       "model_id": "cfe197c2ae6a452f9d099a361357a1ab",
       "version_major": 2,
       "version_minor": 0
      },
      "text/plain": [
       "HBox(children=(HTML(value=''), FloatProgress(value=0.0), HTML(value='')))"
      ]
     },
     "metadata": {},
     "output_type": "display_data"
    },
    {
     "name": "stdout",
     "output_type": "stream",
     "text": [
      "\n"
     ]
    },
    {
     "data": {
      "application/vnd.jupyter.widget-view+json": {
       "model_id": "82879426fcec4243bcbbb40fb6cd8100",
       "version_major": 2,
       "version_minor": 0
      },
      "text/plain": [
       "HBox(children=(HTML(value=''), FloatProgress(value=0.0), HTML(value='')))"
      ]
     },
     "metadata": {},
     "output_type": "display_data"
    },
    {
     "name": "stdout",
     "output_type": "stream",
     "text": [
      "\n"
     ]
    },
    {
     "data": {
      "application/vnd.jupyter.widget-view+json": {
       "model_id": "1383f0c063284559909142a4bb4cb0dd",
       "version_major": 2,
       "version_minor": 0
      },
      "text/plain": [
       "HBox(children=(HTML(value=''), FloatProgress(value=0.0), HTML(value='')))"
      ]
     },
     "metadata": {},
     "output_type": "display_data"
    },
    {
     "name": "stdout",
     "output_type": "stream",
     "text": [
      "\n"
     ]
    },
    {
     "data": {
      "application/vnd.jupyter.widget-view+json": {
       "model_id": "33f22ba39e3f4466801b3096450d2094",
       "version_major": 2,
       "version_minor": 0
      },
      "text/plain": [
       "HBox(children=(HTML(value=''), FloatProgress(value=0.0), HTML(value='')))"
      ]
     },
     "metadata": {},
     "output_type": "display_data"
    },
    {
     "name": "stdout",
     "output_type": "stream",
     "text": [
      "\n"
     ]
    },
    {
     "data": {
      "application/vnd.jupyter.widget-view+json": {
       "model_id": "90f8052b5a8a4aa0b34423cb7d711520",
       "version_major": 2,
       "version_minor": 0
      },
      "text/plain": [
       "HBox(children=(HTML(value=''), FloatProgress(value=0.0), HTML(value='')))"
      ]
     },
     "metadata": {},
     "output_type": "display_data"
    },
    {
     "name": "stdout",
     "output_type": "stream",
     "text": [
      "\n"
     ]
    },
    {
     "data": {
      "application/vnd.jupyter.widget-view+json": {
       "model_id": "c4e2a3f569ff43eca37ce1aa5905e00f",
       "version_major": 2,
       "version_minor": 0
      },
      "text/plain": [
       "HBox(children=(HTML(value=''), FloatProgress(value=0.0), HTML(value='')))"
      ]
     },
     "metadata": {},
     "output_type": "display_data"
    },
    {
     "name": "stdout",
     "output_type": "stream",
     "text": [
      "\n"
     ]
    },
    {
     "data": {
      "application/vnd.jupyter.widget-view+json": {
       "model_id": "9501ea85a4e948df826f79154d2a57d2",
       "version_major": 2,
       "version_minor": 0
      },
      "text/plain": [
       "HBox(children=(HTML(value=''), FloatProgress(value=0.0), HTML(value='')))"
      ]
     },
     "metadata": {},
     "output_type": "display_data"
    },
    {
     "name": "stdout",
     "output_type": "stream",
     "text": [
      "\n"
     ]
    },
    {
     "data": {
      "application/vnd.jupyter.widget-view+json": {
       "model_id": "be000edfe8234e0aaa53abc1889f0442",
       "version_major": 2,
       "version_minor": 0
      },
      "text/plain": [
       "HBox(children=(HTML(value=''), FloatProgress(value=0.0), HTML(value='')))"
      ]
     },
     "metadata": {},
     "output_type": "display_data"
    },
    {
     "name": "stdout",
     "output_type": "stream",
     "text": [
      "\n"
     ]
    },
    {
     "data": {
      "application/vnd.jupyter.widget-view+json": {
       "model_id": "a69551ae1f974adb8826f64ffa585b3e",
       "version_major": 2,
       "version_minor": 0
      },
      "text/plain": [
       "HBox(children=(HTML(value=''), FloatProgress(value=0.0), HTML(value='')))"
      ]
     },
     "metadata": {},
     "output_type": "display_data"
    },
    {
     "name": "stdout",
     "output_type": "stream",
     "text": [
      "\n"
     ]
    }
   ],
   "source": [
    "for num_trajectory in [1, 100]:\n",
    "    for (begin, end) in [(0, 2000), (500, 2500)]:\n",
    "        for noise in [0.05, 0.2, 1]:\n",
    "            for num_dim in [1, 200]:\n",
    "                make_vdp_dataset(num_trajectories=num_trajectory, num_dim=num_dim, begin=begin, end=end, noise=noise)"
   ]
  },
  {
   "cell_type": "code",
   "execution_count": null,
   "id": "93e7c80a",
   "metadata": {},
   "outputs": [],
   "source": []
  }
 ],
 "metadata": {
  "kernelspec": {
   "display_name": "Python 3",
   "language": "python",
   "name": "python3"
  },
  "language_info": {
   "codemirror_mode": {
    "name": "ipython",
    "version": 3
   },
   "file_extension": ".py",
   "mimetype": "text/x-python",
   "name": "python",
   "nbconvert_exporter": "python",
   "pygments_lexer": "ipython3",
   "version": "3.7.9"
  }
 },
 "nbformat": 4,
 "nbformat_minor": 5
}
