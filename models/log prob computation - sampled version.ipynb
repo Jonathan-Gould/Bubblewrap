{
 "cells": [
  {
   "cell_type": "markdown",
   "metadata": {},
   "source": [
    "## Import the packages / functions"
   ]
  },
  {
   "cell_type": "code",
   "execution_count": 104,
   "metadata": {},
   "outputs": [],
   "source": [
    "import matplotlib as mpl\n",
    "# mpl.use(\"pgf\")\n",
    "%matplotlib inline\n",
    "# %matplotlib notebook\n",
    "import matplotlib.pyplot as plt\n",
    "from matplotlib import colors\n",
    "from mpl_toolkits.mplot3d import Axes3D\n",
    "import matplotlib.gridspec as gridspec\n",
    "from mpl_toolkits.axes_grid1 import make_axes_locatable\n",
    "\n",
    "import time\n",
    "\n",
    "import numpy as np\n",
    "import scipy as sp\n",
    "from scipy.stats import multivariate_normal\n",
    "from scipy.special import logsumexp\n",
    "from tqdm.notebook import trange\n",
    "from sklearn import decomposition\n",
    "from sklearn.linear_model import LinearRegression\n",
    "from functools import partial\n",
    "\n",
    "import torch\n",
    "import vjf\n",
    "from vjf import online\n",
    "\n",
    "from tqdm.notebook import trange"
   ]
  },
  {
   "cell_type": "markdown",
   "metadata": {},
   "source": [
    "## Import the dataset (pick one!) "
   ]
  },
  {
   "cell_type": "markdown",
   "metadata": {},
   "source": [
    "#### run the cell below for the example lorenz attractor dataset "
   ]
  },
  {
   "cell_type": "code",
   "execution_count": 82,
   "metadata": {},
   "outputs": [],
   "source": [
    "# The data loading below is the lorenz attractor with (1 trajectory, 3dim, 500 to 2500 time points, with noise sd=0.05)\n",
    "data = np.load('lorenz_1trajectories_3dim_500to2500_noise0.05.npz')\n",
    "\n",
    "xs = data['x']  # state\n",
    "ys = data['y']  # observation\n",
    "us = data['u']  # control input\n",
    "xdim = xs.shape[-1]\n",
    "ydim = ys.shape[-1]\n",
    "udim = us.shape[-1]"
   ]
  },
  {
   "cell_type": "markdown",
   "metadata": {},
   "source": [
    "#### run the cell below for the example vanderpol dataset "
   ]
  },
  {
   "cell_type": "code",
   "execution_count": 84,
   "metadata": {},
   "outputs": [],
   "source": [
    "# The data loading below is the lorenz attractor with (1 trajectory, 3dim, 500 to 2500 time points, with noise sd=0.05)\n",
    "data = np.load('vdp_1trajectories_2dim_500to2500_noise0.05.npz')\n",
    "\n",
    "xs = data['x']  # state\n",
    "ys = data['y']  # observation\n",
    "us = data['u']  # control input\n",
    "xdim = xs.shape[-1]\n",
    "ydim = ys.shape[-1]\n",
    "udim = us.shape[-1]"
   ]
  },
  {
   "cell_type": "markdown",
   "metadata": {},
   "source": [
    "#### run the cell below for the example jPCA dataset"
   ]
  },
  {
   "cell_type": "code",
   "execution_count": 105,
   "metadata": {},
   "outputs": [],
   "source": [
    "data = np.load('jpca_reduced.npy')\n",
    "\n",
    "xs = None  # state\n",
    "ys = data  # observation\n",
    "us = np.zeros((ys.shape[0], ys.shape[1], 1))  # control input\n",
    "xdim = 2\n",
    "ydim = ys.shape[-1]\n",
    "udim = us.shape[-1]"
   ]
  },
  {
   "cell_type": "markdown",
   "metadata": {},
   "source": [
    "#### run the cell below for the example Neuropixel dataset"
   ]
  },
  {
   "cell_type": "code",
   "execution_count": 93,
   "metadata": {},
   "outputs": [],
   "source": [
    "import scipy.io as sio\n",
    "matdict = sio.loadmat('WaksmanwithFaces_KS2.mat', squeeze_me=True)\n",
    "spks = matdict['stall']\n",
    "spks = spks[..., None]\n",
    "\n",
    "xs = None  # state\n",
    "ys = spks  # observation\n",
    "us = np.zeros((ys.shape[0], ys.shape[1], 1))  # control input\n",
    "xdim = 3 # hidden state dimension\n",
    "ydim = ys.shape[-1]\n",
    "udim = us.shape[-1]"
   ]
  },
  {
   "cell_type": "markdown",
   "metadata": {},
   "source": [
    "## Derivation \n",
    "ref: http://www.cs.columbia.edu/~liulp/pdf/linear_normal_dist.pdf"
   ]
  },
  {
   "cell_type": "markdown",
   "metadata": {},
   "source": [
    "$ p(y_t \\vert y_{\\leq{t-1}}) = \\iint p(y_t \\vert x_t) p(x_t \\vert x_{t-1}) p(x_{t-1} \\vert y_{\\leq{t-1}}) dx_{t-1} dx_t $\n",
    "\n",
    "\n",
    "* $ p(x_{t-1} \\vert y_{\\leq{t-1}}) \\longrightarrow \\text{filtering}\\longrightarrow N(\\mu_f, \\Sigma_f) \\in \\mathbb{R}^dx $ \n",
    "\n",
    "\n",
    "* $ p(x_t \\vert x_{t-1}) \\longrightarrow \\text{transition} \\longrightarrow N(W_s x_{t-1}, \\Sigma_s) \\in \\mathbb{R}^dx $\n",
    "\n",
    "\n",
    "* $ p(x_t \\vert y_{\\leq{t-1}}) = p(x_t \\vert x_{t-1}) p(x_{t-1} \\vert y_{\\leq{t-1}}) \\sim N(W_s \\mu_f, W_s \\Sigma_f W^T_s + \\Sigma_s)$\n",
    "\n",
    "\n",
    "* $ p(y_t \\vert x_t) \\longrightarrow \\text{decoder} \\longrightarrow N(W_d x_t + b_d, \\Sigma_d)$\n",
    "\n",
    "\n",
    "* $ p(y_t \\vert y_{\\leq{t-1}}) = N(W_d W_s \\mu_f + b_d, W_d (W_s \\Sigma_f W_s^T + \\Sigma_s) W_d^T + \\Sigma_d)$"
   ]
  },
  {
   "cell_type": "markdown",
   "metadata": {},
   "source": [
    "## Fit the model & save the log probability \n",
    "(Important to Note that the dynamics is now 'RBF')"
   ]
  },
  {
   "cell_type": "code",
   "execution_count": 106,
   "metadata": {},
   "outputs": [],
   "source": [
    "device = 'cpu'"
   ]
  },
  {
   "cell_type": "code",
   "execution_count": 107,
   "metadata": {},
   "outputs": [
    {
     "name": "stdout",
     "output_type": "stream",
     "text": [
      "{'A': (None, False),\n",
      " 'B': (array([[0.],\n",
      "       [0.]]), False),\n",
      " 'C': (None, True),\n",
      " 'Q': (1.0, True),\n",
      " 'R': (1.0, True),\n",
      " 'Udim': 1,\n",
      " 'Ydim': 1,\n",
      " 'activation': 'tanh',\n",
      " 'b': (None, True),\n",
      " 'batch_norm': False,\n",
      " 'clip_gradients': 5.0,\n",
      " 'debug': True,\n",
      " 'hdim': 100,\n",
      " 'likelihood': 'gaussian',\n",
      " 'lr': 0.001,\n",
      " 'optimizer': 'adam',\n",
      " 'path': '/home/nayoungjun/workspace/vjf/notebook',\n",
      " 'random_seed': None,\n",
      " 'rdim': 50,\n",
      " 'recognizer': 'mlp',\n",
      " 'resume': False,\n",
      " 'system': 'rbf',\n",
      " 'udim': 1,\n",
      " 'xdim': 2,\n",
      " 'ydim': 6}\n",
      "Gaussian likelihood\n"
     ]
    }
   ],
   "source": [
    "likelihood = 'gaussian'  # Gaussian observation\n",
    "dynamics = 'rbf'  # RBF network dynamic model\n",
    "recognizer = \"mlp\"  # MLP recognitiom model\n",
    "rdim = 50  # number of RBFs\n",
    "hdim = 100  # number of MLP hidden units\n",
    "\n",
    "mdl = online.VJF(\n",
    "    config=dict(\n",
    "        resume=False,\n",
    "        xdim=xdim,\n",
    "        ydim=ydim,\n",
    "        udim=udim,\n",
    "        Ydim=udim,\n",
    "        Udim=udim,\n",
    "        rdim=rdim,\n",
    "        hdim=hdim,\n",
    "        lr=1e-3,\n",
    "        clip_gradients=5.0,\n",
    "        debug=True,\n",
    "        likelihood=likelihood,  # \n",
    "        system=dynamics,\n",
    "        recognizer=recognizer,\n",
    "        C=(None, True),  # loading matrix: (initial, estimate)\n",
    "        b=(None, True),  # bias: (initial, estimate)\n",
    "        A=(None, False),  # transition matrix if LDS\n",
    "        B=(np.zeros((xdim, udim)), False),  # interaction matrix\n",
    "        Q=(1.0, True),  # state noise\n",
    "        R=(1.0, True),  # observation noise\n",
    "    )\n",
    ").to(device)"
   ]
  },
  {
   "cell_type": "code",
   "execution_count": 108,
   "metadata": {},
   "outputs": [],
   "source": [
    "yy = torch.from_numpy(ys).float().to(device)\n",
    "uu = torch.from_numpy(us).float().to(device)\n",
    "\n",
    "EXAMPLE = 0  # the example for calculating the likelihood\n",
    "\n",
    "# yy = torch.from_numpy(ys[EXAMPLE]).float()\n",
    "# uu = torch.from_numpy(us[EXAMPLE]).float()\n",
    "\n",
    "q = None\n",
    "\n",
    "logprobs = []\n",
    "distances = []"
   ]
  },
  {
   "cell_type": "markdown",
   "metadata": {},
   "source": [
    "Note that we are using only the first trajectory to compute the log probability.\n",
    "\n",
    "We can combine all of the trajectories to make the training better & noise lower."
   ]
  },
  {
   "cell_type": "code",
   "execution_count": 109,
   "metadata": {},
   "outputs": [
    {
     "data": {
      "application/vnd.jupyter.widget-view+json": {
       "model_id": "9c9d15a1a11045eea018a2e1b15ea912",
       "version_major": 2,
       "version_minor": 0
      },
      "text/plain": [
       "HBox(children=(HTML(value=''), FloatProgress(value=0.0, max=108.0), HTML(value='')))"
      ]
     },
     "metadata": {},
     "output_type": "display_data"
    },
    {
     "name": "stdout",
     "output_type": "stream",
     "text": [
      "\n"
     ]
    }
   ],
   "source": [
    "logprobs = []\n",
    "distances = []\n",
    "x_pred = []\n",
    "y_pred = []\n",
    "\n",
    "for trial in trange(yy.shape[0]):\n",
    "    batch_size = 1\n",
    "    filtering_mu = torch.zeros(batch_size, xdim, device=device)\n",
    "    filtering_logvar = torch.zeros(batch_size, xdim, device=device)\n",
    "    q = filtering_mu, filtering_logvar\n",
    "    logprob_per_trial = []\n",
    "    \n",
    "    for time in range(yy.shape[1]):\n",
    "\n",
    "        y = yy[trial, time].unsqueeze(0)\n",
    "        u = uu[trial, time].unsqueeze(0)\n",
    "        q, loss = mdl.feed((y, u), q)\n",
    "\n",
    "        if trial%10 == 0:\n",
    "        \n",
    "            filtering_mu, filtering_logvar = q\n",
    "\n",
    "            mu_f = filtering_mu[0].detach().cpu().numpy().T\n",
    "            var_f = filtering_logvar[EXAMPLE].detach().exp().cpu().numpy().T\n",
    "            Sigma_f = np.eye(xdim) * var_f\n",
    "\n",
    "            x_pred.append(mu_f)\n",
    "\n",
    "            N = 100\n",
    "            x = multivariate_normal(mu_f.flatten(), Sigma_f).rvs(size=N).astype(np.float32)\n",
    "            x = torch.from_numpy(x).to(device)\n",
    "            x += mdl.system.velocity(x)\n",
    "            y_tilde = mdl.decoder(x).detach().cpu().numpy()\n",
    "            y_pred.append(y_tilde)\n",
    "            y_var = mdl.likelihood.logvar.detach().exp().cpu().numpy().T\n",
    "            logprob = logsumexp([multivariate_normal(y_t, y_var).logpdf(y.cpu().numpy()) for y_t in y_tilde]) - np.log(N)\n",
    "\n",
    "            logprob_per_trial.append(logprob)\n",
    "            distances.append(np.linalg.norm(y_tilde - y[EXAMPLE].cpu().numpy(), axis=-1).mean())\n",
    "        \n",
    "    if len(logprob_per_trial) > 0:\n",
    "        logprobs.append(logprob_per_trial)"
   ]
  },
  {
   "cell_type": "markdown",
   "metadata": {},
   "source": [
    "## Plotting the log probability "
   ]
  },
  {
   "cell_type": "code",
   "execution_count": 110,
   "metadata": {},
   "outputs": [
    {
     "data": {
      "text/plain": [
       "<matplotlib.legend.Legend at 0x7f76f2386bd0>"
      ]
     },
     "execution_count": 110,
     "metadata": {},
     "output_type": "execute_result"
    },
    {
     "data": {
      "image/png": "[encoded data removed]",
      "text/plain": [
       "<Figure size 432x288 with 1 Axes>"
      ]
     },
     "metadata": {
      "needs_background": "light"
     },
     "output_type": "display_data"
    }
   ],
   "source": [
    "from matplotlib.cm import get_cmap\n",
    "\n",
    "cm = get_cmap(\"viridis\")\n",
    "colors = cm(np.linspace(0, 1, len(logprobs)))\n",
    "colors.shape\n",
    "\n",
    "for i, curve in enumerate(logprobs):\n",
    "    plt.plot(curve, c=colors[i], label= f\"{i * 10}th\")\n",
    "plt.legend(bbox_to_anchor=(1.1, 1.0))"
   ]
  },
  {
   "cell_type": "markdown",
   "metadata": {},
   "source": [
    "## Plotting the L2 distance"
   ]
  },
  {
   "cell_type": "code",
   "execution_count": 111,
   "metadata": {},
   "outputs": [
    {
     "data": {
      "text/plain": [
       "[<matplotlib.lines.Line2D at 0x7f76f0887f10>]"
      ]
     },
     "execution_count": 111,
     "metadata": {},
     "output_type": "execute_result"
    },
    {
     "data": {
      "image/png": "[encoded data removed]",
      "text/plain": [
       "<Figure size 432x288 with 1 Axes>"
      ]
     },
     "metadata": {
      "needs_background": "light"
     },
     "output_type": "display_data"
    }
   ],
   "source": [
    "plt.plot(distances)"
   ]
  }
 ],
 "metadata": {
  "kernelspec": {
   "display_name": "Python 3",
   "language": "python",
   "name": "python3"
  },
  "language_info": {
   "codemirror_mode": {
    "name": "ipython",
    "version": 3
   },
   "file_extension": ".py",
   "mimetype": "text/x-python",
   "name": "python",
   "nbconvert_exporter": "python",
   "pygments_lexer": "ipython3",
   "version": "3.7.9"
  }
 },
 "nbformat": 4,
 "nbformat_minor": 2
}
