{
 "cells": [
  {
   "cell_type": "markdown",
   "metadata": {},
   "source": [
    "## 1. Install VJF (for more information, visit https://github.com/catniplab/vjf)"
   ]
  },
  {
   "cell_type": "code",
   "execution_count": 75,
   "metadata": {},
   "outputs": [
    {
     "name": "stdout",
     "output_type": "stream",
     "text": [
      "Collecting git+https://github.com/catniplab/vjf.git\n",
      "  Cloning https://github.com/catniplab/vjf.git to /tmp/pip-req-build-ckod0he2\n",
      "  Running command git clone -q https://github.com/catniplab/vjf.git /tmp/pip-req-build-ckod0he2\n",
      "Building wheels for collected packages: vjf\n",
      "  Building wheel for vjf (setup.py) ... \u001b[?25ldone\n",
      "\u001b[?25h  Created wheel for vjf: filename=vjf-2018.11.16-py3-none-any.whl size=15500 sha256=9894820d94c345c0ccccebc528a9fd0be15a58c089724820eb289650d5666ad7\n",
      "  Stored in directory: /tmp/pip-ephem-wheel-cache-244wmr_d/wheels/a6/bd/22/2d48f239ecfe19c0bd595dec620e6cce2bb72f31adaff5a342\n",
      "Successfully built vjf\n",
      "Installing collected packages: vjf\n",
      "  Attempting uninstall: vjf\n",
      "    Found existing installation: vjf 2018.11.16\n",
      "    Uninstalling vjf-2018.11.16:\n",
      "      Successfully uninstalled vjf-2018.11.16\n",
      "Successfully installed vjf-2018.11.16\n"
     ]
    }
   ],
   "source": [
    "!pip install git+https://github.com/catniplab/vjf.git"
   ]
  },
  {
   "cell_type": "markdown",
   "metadata": {},
   "source": [
    "## 2. Import the packages / functions"
   ]
  },
  {
   "cell_type": "code",
   "execution_count": 76,
   "metadata": {},
   "outputs": [],
   "source": [
    "import matplotlib.pyplot as plt\n",
    "import numpy as np\n",
    "from scipy.stats import multivariate_normal\n",
    "from scipy.special import logsumexp\n",
    "from tqdm.notebook import trange\n",
    "\n",
    "import torch\n",
    "import vjf\n",
    "from vjf import online\n",
    "\n",
    "%matplotlib inline"
   ]
  },
  {
   "cell_type": "markdown",
   "metadata": {},
   "source": [
    "## 3. Import the dataset\n",
    "### (run ONLY one of the 6 cells below, depending on the dataset you'd like to run with)\n",
    "- Van der Pol dataset\n",
    "- Lorenz attractor dataset\n",
    "- Monkey reach (jPCA) dataset\n",
    "- Wide-field calcium dataset\n",
    "- Mouse video dataset\n",
    "- Neuropixels dataset"
   ]
  },
  {
   "cell_type": "markdown",
   "metadata": {},
   "source": [
    "#### run the cell below to load the simulated Van der Pol dataset "
   ]
  },
  {
   "cell_type": "code",
   "execution_count": 86,
   "metadata": {},
   "outputs": [],
   "source": [
    "# The data loading below is the vdp with (1 trajectory, 2dim, 500 to 20500 time points, with noise sd=0.05)\n",
    "# Use any of the simulated vdp dataset. \n",
    "# You can generate the simulated data using datagen.py (more info in Readme)\n",
    "data = np.load('vdp_1trajectories_2dim_500to20500_noise0.05.npz')\n",
    "\n",
    "xs = data['x']  # state\n",
    "ys = data['y']  # observation\n",
    "us = data['u']  # control input\n",
    "xdim = xs.shape[-1]\n",
    "ydim = ys.shape[-1]\n",
    "udim = us.shape[-1]"
   ]
  },
  {
   "cell_type": "markdown",
   "metadata": {},
   "source": [
    "#### run the cell below to load the simulated Lorenz attractor dataset "
   ]
  },
  {
   "cell_type": "code",
   "execution_count": 78,
   "metadata": {},
   "outputs": [],
   "source": [
    "# The data loading below is the lorenz attractor with (1 trajectory, 3dim, 500 to 20500 time points, with noise sd=0.05)\n",
    "# Use any of the simulated lorenz dataset. \n",
    "# You can generate the simulated data using datagen.py (See README.md for more info)\n",
    "data = np.load('lorenz_1trajectories_3dim_500to20500_noise0.05.npz')\n",
    "\n",
    "xs = data['x']  # state\n",
    "ys = data['y']  # observation\n",
    "us = data['u']  # control input\n",
    "xdim = xs.shape[-1]\n",
    "ydim = ys.shape[-1]\n",
    "udim = us.shape[-1]"
   ]
  },
  {
   "cell_type": "markdown",
   "metadata": {},
   "source": [
    "#### run the cell below to load the reduced Monkey reach (jPCA) dataset"
   ]
  },
  {
   "cell_type": "code",
   "execution_count": 80,
   "metadata": {},
   "outputs": [],
   "source": [
    "# load the reduced Monkey reach dataset (See README.md for how the reduced dataset was generated.)\n",
    "data = np.load('jpca_reduced.npy')\n",
    "\n",
    "xs = None  # state\n",
    "ys = data  # observation\n",
    "ys = ys[None, ...]\n",
    "us = np.zeros((ys.shape[0], ys.shape[1], 1))  # control input\n",
    "xdim = 6\n",
    "ydim = ys.shape[-1]\n",
    "udim = us.shape[-1]"
   ]
  },
  {
   "cell_type": "markdown",
   "metadata": {},
   "source": [
    "#### run the cell below to load the reduced Wide-field calcium imaging dataset"
   ]
  },
  {
   "cell_type": "code",
   "execution_count": 81,
   "metadata": {},
   "outputs": [],
   "source": [
    "# load the reduced Wide-field calcium dataset (See README.md for how the reduced dataset was generated.)\n",
    "data = np.load('widefield_reduced.npy')\n",
    "\n",
    "xs = None\n",
    "ys = data.T[None, ...]\n",
    "us = np.zeros((ys.shape[0], ys.shape[1], 1))\n",
    "xdim = ys.shape[-1]\n",
    "ydim = ys.shape[-1]\n",
    "udim = us.shape[-1]"
   ]
  },
  {
   "cell_type": "markdown",
   "metadata": {},
   "source": [
    "#### run the cell below for the reduced Mouse video dataset"
   ]
  },
  {
   "cell_type": "code",
   "execution_count": 83,
   "metadata": {},
   "outputs": [],
   "source": [
    "# load the reduced Mouse video dataset (See README.md for how the reduced dataset was generated.)\n",
    "data = np.load('reduced_mouse.npy')\n",
    "\n",
    "xs = None\n",
    "ys = data.T[None, ...]\n",
    "us = np.zeros((ys.shape[0], ys.shape[1], 1))\n",
    "xdim = ys.shape[-1]\n",
    "ydim = ys.shape[-1]\n",
    "udim = us.shape[-1]"
   ]
  },
  {
   "cell_type": "markdown",
   "metadata": {},
   "source": [
    "#### run the cell below for the example Neuropixels dataset"
   ]
  },
  {
   "cell_type": "code",
   "execution_count": 85,
   "metadata": {},
   "outputs": [],
   "source": [
    "# load the reduced Neuropixels dataset with the desired latent dimensions\n",
    "# (See README.md for how the reduced dataset was generated.)\n",
    "data = np.load('neuropixel_reduced.npz')['ssSVD10'] # you can change this to 'ssSVD20'\n",
    "\n",
    "xs = None\n",
    "ys = data.T[None, ...]\n",
    "us = np.zeros((ys.shape[0], ys.shape[1], 1))\n",
    "xdim = ys.shape[-1]\n",
    "ydim = ys.shape[-1]\n",
    "udim = us.shape[-1]"
   ]
  },
  {
   "cell_type": "markdown",
   "metadata": {},
   "source": [
    "## 4. Check your data dimension\n",
    "It should be\n",
    "`number of trials x number of time points x number of latent dimensions`"
   ]
  },
  {
   "cell_type": "code",
   "execution_count": 87,
   "metadata": {},
   "outputs": [
    {
     "data": {
      "text/plain": [
       "(1, 20000, 2)"
      ]
     },
     "execution_count": 87,
     "metadata": {},
     "output_type": "execute_result"
    }
   ],
   "source": [
    "ys.shape"
   ]
  },
  {
   "cell_type": "markdown",
   "metadata": {},
   "source": [
    "## 5. Training the model and calculating the log probs"
   ]
  },
  {
   "cell_type": "code",
   "execution_count": 88,
   "metadata": {},
   "outputs": [],
   "source": [
    "device = 'cpu'"
   ]
  },
  {
   "cell_type": "code",
   "execution_count": 89,
   "metadata": {},
   "outputs": [
    {
     "name": "stdout",
     "output_type": "stream",
     "text": [
      "{'A': (None, False),\n",
      " 'B': (array([[0.],\n",
      "       [0.]]), False),\n",
      " 'C': (None, True),\n",
      " 'Q': (1.0, True),\n",
      " 'R': (1.0, True),\n",
      " 'Udim': 1,\n",
      " 'Ydim': 1,\n",
      " 'activation': 'tanh',\n",
      " 'b': (None, True),\n",
      " 'batch_norm': False,\n",
      " 'clip_gradients': 5.0,\n",
      " 'debug': True,\n",
      " 'hdim': 100,\n",
      " 'likelihood': 'gaussian',\n",
      " 'lr': 0.001,\n",
      " 'optimizer': 'adam',\n",
      " 'path': '/home/nayoungjun/workspace/vjf/notebook',\n",
      " 'random_seed': None,\n",
      " 'rdim': 50,\n",
      " 'recognizer': 'mlp',\n",
      " 'resume': False,\n",
      " 'system': 'rbf',\n",
      " 'udim': 1,\n",
      " 'xdim': 2,\n",
      " 'ydim': 2}\n",
      "Gaussian likelihood\n"
     ]
    }
   ],
   "source": [
    "likelihood = 'gaussian'  # Gaussian observation\n",
    "dynamics = 'rbf'  # RBF network dynamic model\n",
    "recognizer = \"mlp\"  # MLP recognitiom model\n",
    "rdim = 50  # number of RBFs\n",
    "hdim = 100  # number of MLP hidden units\n",
    "\n",
    "mdl = online.VJF(\n",
    "    config=dict(\n",
    "        resume=False,\n",
    "        xdim=xdim,\n",
    "        ydim=ydim,\n",
    "        udim=udim,\n",
    "        Ydim=udim,\n",
    "        Udim=udim,\n",
    "        rdim=rdim,\n",
    "        hdim=hdim,\n",
    "        lr=1e-3,\n",
    "        clip_gradients=5.0,\n",
    "        debug=True,\n",
    "        likelihood=likelihood,  # \n",
    "        system=dynamics,\n",
    "        recognizer=recognizer,\n",
    "        C=(None, True),  # loading matrix: (initial, estimate)\n",
    "        b=(None, True),  # bias: (initial, estimate)\n",
    "        A=(None, False),  # transition matrix if LDS\n",
    "        B=(np.zeros((xdim, udim)), False),  # interaction matrix\n",
    "        Q=(1.0, True),  # state noise\n",
    "        R=(1.0, True),  # observation noise\n",
    "    )\n",
    ").to(device)"
   ]
  },
  {
   "cell_type": "code",
   "execution_count": 90,
   "metadata": {},
   "outputs": [],
   "source": [
    "yy = torch.from_numpy(ys).float().to(device)\n",
    "uu = torch.from_numpy(us).float().to(device)\n",
    "\n",
    "q = None\n",
    "\n",
    "logprobs = []\n",
    "distances = []"
   ]
  },
  {
   "cell_type": "code",
   "execution_count": 91,
   "metadata": {},
   "outputs": [],
   "source": [
    "def diagonal_normal_logpdf(mean, variance, sample):\n",
    "    mean = mean.flatten()\n",
    "    variance = variance.flatten()\n",
    "    sample = sample.flatten()\n",
    "    \n",
    "    assert len(mean) == len(variance) == len(sample), f\"inconsistent shape: {mean.shape}, {variance.shape}, {sample.shape}\"\n",
    "    \n",
    "    logprobs = []\n",
    "    for i in range(len(sample)):\n",
    "        x = sample[i]\n",
    "        m = mean[i]\n",
    "        v = variance[i]\n",
    "        logprobs.append(-0.5 * ((x - m) ** 2 / v + np.log(2 * np.pi * v)))\n",
    "    return sum(logprobs)\n"
   ]
  },
  {
   "cell_type": "code",
   "execution_count": 95,
   "metadata": {},
   "outputs": [
    {
     "data": {
      "application/vnd.jupyter.widget-view+json": {
       "model_id": "0ac1f9cccba24069939c9940e243bbb4",
       "version_major": 2,
       "version_minor": 0
      },
      "text/plain": [
       "  0%|          | 0/1 [00:00<?, ?it/s]"
      ]
     },
     "metadata": {},
     "output_type": "display_data"
    },
    {
     "name": "stdout",
     "output_type": "stream",
     "text": [
      "{'A': (None, False),\n",
      " 'B': (array([[0.],\n",
      "       [0.]]), False),\n",
      " 'C': (None, True),\n",
      " 'Q': (1.0, True),\n",
      " 'R': (1.0, True),\n",
      " 'Udim': 1,\n",
      " 'Ydim': 1,\n",
      " 'activation': 'tanh',\n",
      " 'b': (None, True),\n",
      " 'batch_norm': False,\n",
      " 'clip_gradients': 5.0,\n",
      " 'debug': True,\n",
      " 'hdim': 100,\n",
      " 'likelihood': 'gaussian',\n",
      " 'lr': 0.001,\n",
      " 'optimizer': 'adam',\n",
      " 'path': '/home/nayoungjun/workspace/vjf/notebook',\n",
      " 'random_seed': None,\n",
      " 'rdim': 50,\n",
      " 'recognizer': 'mlp',\n",
      " 'resume': False,\n",
      " 'system': 'rbf',\n",
      " 'udim': 1,\n",
      " 'xdim': 2,\n",
      " 'ydim': 2}\n",
      "Gaussian likelihood\n"
     ]
    },
    {
     "data": {
      "application/vnd.jupyter.widget-view+json": {
       "model_id": "25304449437e4eff8695c8be7c96a506",
       "version_major": 2,
       "version_minor": 0
      },
      "text/plain": [
       "  0%|          | 0/20000 [00:00<?, ?it/s]"
      ]
     },
     "metadata": {},
     "output_type": "display_data"
    }
   ],
   "source": [
    "logprobs = []\n",
    "distances = []\n",
    "trial = 0\n",
    "\n",
    "for trial in trange(yy.shape[0]):\n",
    "    batch_size = 1\n",
    "    filtering_mu = torch.zeros(batch_size, xdim, device=device)\n",
    "    filtering_logvar = torch.zeros(batch_size, xdim, device=device)\n",
    "    q = filtering_mu, filtering_logvar\n",
    "    logprob_per_trial = []\n",
    "    \n",
    "    mdl = online.VJF(\n",
    "        config=dict(\n",
    "            resume=False,\n",
    "            xdim=xdim,\n",
    "            ydim=ydim,\n",
    "            udim=udim,\n",
    "            Ydim=udim,\n",
    "            Udim=udim,\n",
    "            rdim=rdim,\n",
    "            hdim=hdim,\n",
    "            lr=1e-3,\n",
    "            clip_gradients=5.0,\n",
    "            debug=True,\n",
    "            likelihood=likelihood,  # \n",
    "            system=dynamics,\n",
    "            recognizer=recognizer,\n",
    "            C=(None, True),  # loading matrix: (initial, estimate)\n",
    "            b=(None, True),  # bias: (initial, estimate)\n",
    "            A=(None, False),  # transition matrix if LDS\n",
    "            B=(np.zeros((xdim, udim)), False),  # interaction matrix\n",
    "            Q=(1.0, True),  # state noise\n",
    "            R=(1.0, True),  # observation noise\n",
    "        )\n",
    "    ).to(device)\n",
    "    \n",
    "    for time in trange(yy.shape[1]):\n",
    "\n",
    "        y = yy[trial, time].unsqueeze(0)\n",
    "        u = uu[trial, time].unsqueeze(0)\n",
    "        \n",
    "        filtering_mu, filtering_logvar = q\n",
    "\n",
    "        mu_f = filtering_mu[0].detach().cpu().numpy().T\n",
    "        var_f = filtering_logvar[EXAMPLE].detach().exp().cpu().numpy().T\n",
    "        Sigma_f = np.eye(xdim) * var_f\n",
    "\n",
    "\n",
    "        N = 100\n",
    "        x = multivariate_normal(mu_f.flatten(), Sigma_f).rvs(size=N).astype(np.float32)\n",
    "        x = torch.from_numpy(x).to(device)\n",
    "        x += mdl.system.velocity(x) + mdl.system.noise.var ** 0.5 * torch.randn_like(x)\n",
    "        y_tilde = mdl.decoder(x).detach().cpu().numpy()\n",
    "\n",
    "        y_var = mdl.likelihood.logvar.detach().exp().cpu().numpy().T\n",
    "        logprob = logsumexp([diagonal_normal_logpdf(y_t, y_var, y.cpu().numpy()) for y_t in y_tilde]) - np.log(N)\n",
    "\n",
    "        logprob_per_trial.append(logprob)\n",
    "        distances.append(np.linalg.norm(y_tilde - y[EXAMPLE].cpu().numpy(), axis=-1).mean())\n",
    "\n",
    "        q, loss = mdl.feed((y, u), q)\n",
    "\n",
    "    logprobs.append(logprob_per_trial)"
   ]
  },
  {
   "cell_type": "markdown",
   "metadata": {},
   "source": [
    "## 6. Save the log probabilities "
   ]
  },
  {
   "cell_type": "code",
   "execution_count": 96,
   "metadata": {},
   "outputs": [],
   "source": [
    "np.save('logprob_vjf_1trial_lorenz_noise0.05.npy', np.array(logprobs))"
   ]
  },
  {
   "cell_type": "markdown",
   "metadata": {},
   "source": [
    "## 7. Plotting the log probability "
   ]
  },
  {
   "cell_type": "code",
   "execution_count": 99,
   "metadata": {},
   "outputs": [],
   "source": [
    "# load the file you just saved from above. \n",
    "vjf = np.load('logprob_vjf_1trial_lorenz_noise0.05.npy')"
   ]
  },
  {
   "cell_type": "code",
   "execution_count": 100,
   "metadata": {},
   "outputs": [],
   "source": [
    "# specify the trial number you want to plot.\n",
    "t = 0"
   ]
  },
  {
   "cell_type": "code",
   "execution_count": 101,
   "metadata": {},
   "outputs": [
    {
     "data": {
      "text/plain": [
       "(1, 20000)"
      ]
     },
     "execution_count": 101,
     "metadata": {},
     "output_type": "execute_result"
    }
   ],
   "source": [
    "vjf.shape"
   ]
  },
  {
   "cell_type": "code",
   "execution_count": 104,
   "metadata": {},
   "outputs": [
    {
     "data": {
      "text/plain": [
       "<matplotlib.legend.Legend at 0x7f3b9e7643a0>"
      ]
     },
     "execution_count": 104,
     "metadata": {},
     "output_type": "execute_result"
    },
    {
     "data": {
      "image/png": "[encoded data removed]",
      "text/plain": [
       "<Figure size 432x288 with 1 Axes>"
      ]
     },
     "metadata": {
      "needs_background": "light"
     },
     "output_type": "display_data"
    }
   ],
   "source": [
    "import pandas as pd\n",
    "def ewma(data, com):\n",
    "    return np.array(pd.DataFrame(data=dict(data=data)).ewm(com).mean()['data'])\n",
    "\n",
    "plt.plot(vjf[t], color='grey', alpha=0.2)\n",
    "\n",
    "ax = plt.gca()\n",
    "ax.plot(ewma(vjf[t], 100), color='black', label='vjf')\n",
    "ax.ticklabel_format(useOffset=False, style='plain')\n",
    "ax.set_xlabel('time step')\n",
    "ax.set_ylabel('log probability')\n",
    "ax.set_title('predictive log probability at each time step (jPCA)')\n",
    "ax.legend()"
   ]
  },
  {
   "cell_type": "markdown",
   "metadata": {},
   "source": [
    "## 8. Compute the mean and std of the last half of the time points (for Table 1)"
   ]
  },
  {
   "cell_type": "code",
   "execution_count": 107,
   "metadata": {},
   "outputs": [
    {
     "data": {
      "text/plain": [
       "(-0.17448249337361935, 0.5121917192313542)"
      ]
     },
     "execution_count": 107,
     "metadata": {},
     "output_type": "execute_result"
    }
   ],
   "source": [
    "nn = vjf.shape[1]\n",
    "vjf[t][nn//2:].mean(), vjf[t][nn//2:].std()"
   ]
  }
 ],
 "metadata": {
  "kernelspec": {
   "display_name": "Python 3",
   "language": "python",
   "name": "python3"
  },
  "language_info": {
   "codemirror_mode": {
    "name": "ipython",
    "version": 3
   },
   "file_extension": ".py",
   "mimetype": "text/x-python",
   "name": "python",
   "nbconvert_exporter": "python",
   "pygments_lexer": "ipython3",
   "version": "3.8.10"
  }
 },
 "nbformat": 4,
 "nbformat_minor": 2
}
