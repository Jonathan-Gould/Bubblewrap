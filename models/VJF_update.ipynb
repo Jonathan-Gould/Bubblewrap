{
 "cells": [
  {
   "cell_type": "markdown",
   "metadata": {},
   "source": [
    "## 1. Install VJF (for more information, visit https://github.com/catniplab/vjf)"
   ]
  },
  {
   "cell_type": "code",
   "execution_count": 1,
   "metadata": {},
   "outputs": [
    {
     "name": "stdout",
     "output_type": "stream",
     "text": [
      "\u001b[33mWARNING: Skipping vjf as it is not installed.\u001b[0m\r\n"
     ]
    }
   ],
   "source": [
    "!pip uninstall -y vjf  # uninstall if you have VJF already in order to match the versions "
   ]
  },
  {
   "cell_type": "code",
   "execution_count": 2,
   "metadata": {},
   "outputs": [
    {
     "name": "stdout",
     "output_type": "stream",
     "text": [
      "Cloning into '/tmp/vjf'...\n",
      "remote: Enumerating objects: 864, done.\u001b[K\n",
      "remote: Counting objects: 100% (864/864), done.\u001b[K\n",
      "remote: Compressing objects: 100% (475/475), done.\u001b[K\n",
      "remote: Total 864 (delta 556), reused 644 (delta 344), pack-reused 0\u001b[K\n",
      "Receiving objects: 100% (864/864), 41.71 MiB | 12.62 MiB/s, done.\n",
      "Resolving deltas: 100% (556/556), done.\n"
     ]
    }
   ],
   "source": [
    "!rm -rf /tmp/vjf/\n",
    "!git clone https://github.com/catniplab/vjf.git /tmp/vjf/"
   ]
  },
  {
   "cell_type": "code",
   "execution_count": 3,
   "metadata": {},
   "outputs": [
    {
     "name": "stdout",
     "output_type": "stream",
     "text": [
      "Note: switching to '0eec61e91c29cf9a44b48c2a6694234b4404a2b3'.\r\n",
      "\r\n",
      "You are in 'detached HEAD' state. You can look around, make experimental\r\n",
      "changes and commit them, and you can discard any commits you make in this\r\n",
      "state without impacting any branches by switching back to a branch.\r\n",
      "\r\n",
      "If you want to create a new branch to retain commits you create, you may\r\n",
      "do so (now or later) by using -c with the switch command. Example:\r\n",
      "\r\n",
      "  git switch -c <new-branch-name>\r\n",
      "\r\n",
      "Or undo this operation with:\r\n",
      "\r\n",
      "  git switch -\r\n",
      "\r\n",
      "Turn off this advice by setting config variable advice.detachedHead to false\r\n",
      "\r\n",
      "HEAD is now at 0eec61e add download link to figshare\r\n"
     ]
    }
   ],
   "source": [
    "!git --git-dir=/tmp/vjf/.git --work-tree /tmp/vjf/ checkout 0eec61e91c29cf9a44b48c2a6694234b4404a2b3"
   ]
  },
  {
   "cell_type": "code",
   "execution_count": 4,
   "metadata": {},
   "outputs": [],
   "source": [
    "import sys\n",
    "sys.path.append(\"/tmp/vjf\")"
   ]
  },
  {
   "cell_type": "markdown",
   "metadata": {},
   "source": [
    "## 2. Import the packages / functions"
   ]
  },
  {
   "cell_type": "code",
   "execution_count": 5,
   "metadata": {},
   "outputs": [],
   "source": [
    "import matplotlib.pyplot as plt\n",
    "import numpy as np\n",
    "from scipy.stats import multivariate_normal\n",
    "from scipy.special import logsumexp\n",
    "from tqdm.notebook import trange\n",
    "\n",
    "import torch\n",
    "import vjf\n",
    "from vjf import online\n",
    "\n",
    "%matplotlib inline"
   ]
  },
  {
   "cell_type": "markdown",
   "metadata": {},
   "source": [
    "## 3. Import the dataset\n",
    "### (run ONLY one of the 6 cells below, depending on the dataset you'd like to run with)\n",
    "- Van der Pol dataset\n",
    "- Lorenz attractor dataset\n",
    "- Monkey reach (jPCA) dataset\n",
    "- Wide-field calcium dataset\n",
    "- Mouse video dataset\n",
    "- Neuropixels dataset"
   ]
  },
  {
   "cell_type": "markdown",
   "metadata": {},
   "source": [
    "#### run the cell below to load the simulated Van der Pol dataset "
   ]
  },
  {
   "cell_type": "code",
   "execution_count": 6,
   "metadata": {},
   "outputs": [],
   "source": [
    "# The data loading below is the vdp with (1 trajectory, 2dim, 500 to 20500 time points, with noise sd=0.05)\n",
    "# Use any of the simulated vdp dataset. \n",
    "# You can generate the simulated data using datagen.py (more info in Readme)\n",
    "data = np.load('vdp_1trajectories_2dim_500to20500_noise0.05.npz')\n",
    "\n",
    "xs = data['x']  # state\n",
    "ys = data['y']  # observation\n",
    "us = data['u']  # control input\n",
    "xdim = xs.shape[-1]\n",
    "ydim = ys.shape[-1]\n",
    "udim = us.shape[-1]"
   ]
  },
  {
   "cell_type": "markdown",
   "metadata": {},
   "source": [
    "#### run the cell below to load the simulated Lorenz attractor dataset "
   ]
  },
  {
   "cell_type": "code",
   "execution_count": 36,
   "metadata": {},
   "outputs": [
    {
     "ename": "FileNotFoundError",
     "evalue": "[Errno 2] No such file or directory: 'lorenz_1trajectories_3dim_500to20500_noise0.05.npz'",
     "output_type": "error",
     "traceback": [
      "\u001b[0;31m---------------------------------------------------------------------------\u001b[0m",
      "\u001b[0;31mFileNotFoundError\u001b[0m                         Traceback (most recent call last)",
      "\u001b[0;32m<ipython-input-36-d4ea35d727c0>\u001b[0m in \u001b[0;36m<module>\u001b[0;34m\u001b[0m\n\u001b[1;32m      2\u001b[0m \u001b[0;31m# Use any of the simulated lorenz dataset.\u001b[0m\u001b[0;34m\u001b[0m\u001b[0;34m\u001b[0m\u001b[0;34m\u001b[0m\u001b[0m\n\u001b[1;32m      3\u001b[0m \u001b[0;31m# You can generate the simulated data using datagen.py (See README.md for more info)\u001b[0m\u001b[0;34m\u001b[0m\u001b[0;34m\u001b[0m\u001b[0;34m\u001b[0m\u001b[0m\n\u001b[0;32m----> 4\u001b[0;31m \u001b[0mdata\u001b[0m \u001b[0;34m=\u001b[0m \u001b[0mnp\u001b[0m\u001b[0;34m.\u001b[0m\u001b[0mload\u001b[0m\u001b[0;34m(\u001b[0m\u001b[0;34m'lorenz_1trajectories_3dim_500to20500_noise0.05.npz'\u001b[0m\u001b[0;34m)\u001b[0m\u001b[0;34m\u001b[0m\u001b[0;34m\u001b[0m\u001b[0m\n\u001b[0m\u001b[1;32m      5\u001b[0m \u001b[0;34m\u001b[0m\u001b[0m\n\u001b[1;32m      6\u001b[0m \u001b[0mxs\u001b[0m \u001b[0;34m=\u001b[0m \u001b[0mdata\u001b[0m\u001b[0;34m[\u001b[0m\u001b[0;34m'x'\u001b[0m\u001b[0;34m]\u001b[0m  \u001b[0;31m# state\u001b[0m\u001b[0;34m\u001b[0m\u001b[0;34m\u001b[0m\u001b[0m\n",
      "\u001b[0;32m/usr/local/Caskroom/miniconda/base/envs/py38/lib/python3.8/site-packages/numpy/lib/npyio.py\u001b[0m in \u001b[0;36mload\u001b[0;34m(file, mmap_mode, allow_pickle, fix_imports, encoding)\u001b[0m\n\u001b[1;32m    415\u001b[0m             \u001b[0mown_fid\u001b[0m \u001b[0;34m=\u001b[0m \u001b[0;32mFalse\u001b[0m\u001b[0;34m\u001b[0m\u001b[0;34m\u001b[0m\u001b[0m\n\u001b[1;32m    416\u001b[0m         \u001b[0;32melse\u001b[0m\u001b[0;34m:\u001b[0m\u001b[0;34m\u001b[0m\u001b[0;34m\u001b[0m\u001b[0m\n\u001b[0;32m--> 417\u001b[0;31m             \u001b[0mfid\u001b[0m \u001b[0;34m=\u001b[0m \u001b[0mstack\u001b[0m\u001b[0;34m.\u001b[0m\u001b[0menter_context\u001b[0m\u001b[0;34m(\u001b[0m\u001b[0mopen\u001b[0m\u001b[0;34m(\u001b[0m\u001b[0mos_fspath\u001b[0m\u001b[0;34m(\u001b[0m\u001b[0mfile\u001b[0m\u001b[0;34m)\u001b[0m\u001b[0;34m,\u001b[0m \u001b[0;34m\"rb\"\u001b[0m\u001b[0;34m)\u001b[0m\u001b[0;34m)\u001b[0m\u001b[0;34m\u001b[0m\u001b[0;34m\u001b[0m\u001b[0m\n\u001b[0m\u001b[1;32m    418\u001b[0m             \u001b[0mown_fid\u001b[0m \u001b[0;34m=\u001b[0m \u001b[0;32mTrue\u001b[0m\u001b[0;34m\u001b[0m\u001b[0;34m\u001b[0m\u001b[0m\n\u001b[1;32m    419\u001b[0m \u001b[0;34m\u001b[0m\u001b[0m\n",
      "\u001b[0;31mFileNotFoundError\u001b[0m: [Errno 2] No such file or directory: 'lorenz_1trajectories_3dim_500to20500_noise0.05.npz'"
     ]
    }
   ],
   "source": [
    "# The data loading below is the lorenz attractor with (1 trajectory, 3dim, 500 to 20500 time points, with noise sd=0.05)\n",
    "# Use any of the simulated lorenz dataset. \n",
    "# You can generate the simulated data using datagen.py (See README.md for more info)\n",
    "data = np.load('lorenz_1trajectories_3dim_500to20500_noise0.05.npz')\n",
    "\n",
    "xs = data['x']  # state\n",
    "ys = data['y']  # observation\n",
    "us = data['u']  # control input\n",
    "xdim = xs.shape[-1]\n",
    "ydim = ys.shape[-1]\n",
    "udim = us.shape[-1]"
   ]
  },
  {
   "cell_type": "markdown",
   "metadata": {},
   "source": [
    "#### run the cell below to load the reduced Monkey reach (jPCA) dataset"
   ]
  },
  {
   "cell_type": "code",
   "execution_count": null,
   "metadata": {},
   "outputs": [],
   "source": [
    "# load the reduced Monkey reach dataset (See README.md for how the reduced dataset was generated.)\n",
    "data = np.load('jpca_reduced.npy')\n",
    "\n",
    "xs = None  # state\n",
    "ys = data  # observation\n",
    "ys = ys[None, ...]\n",
    "us = np.zeros((ys.shape[0], ys.shape[1], 1))  # control input\n",
    "xdim = 6\n",
    "ydim = ys.shape[-1]\n",
    "udim = us.shape[-1]"
   ]
  },
  {
   "cell_type": "markdown",
   "metadata": {},
   "source": [
    "#### run the cell below to load the reduced Wide-field calcium imaging dataset"
   ]
  },
  {
   "cell_type": "code",
   "execution_count": 81,
   "metadata": {},
   "outputs": [],
   "source": [
    "# load the reduced Wide-field calcium dataset (See README.md for how the reduced dataset was generated.)\n",
    "data = np.load('widefield_reduced.npy')\n",
    "\n",
    "xs = None\n",
    "ys = data.T[None, ...]\n",
    "us = np.zeros((ys.shape[0], ys.shape[1], 1))\n",
    "xdim = ys.shape[-1]\n",
    "ydim = ys.shape[-1]\n",
    "udim = us.shape[-1]"
   ]
  },
  {
   "cell_type": "markdown",
   "metadata": {},
   "source": [
    "#### run the cell below for the reduced Mouse video dataset"
   ]
  },
  {
   "cell_type": "code",
   "execution_count": 83,
   "metadata": {},
   "outputs": [],
   "source": [
    "# load the reduced Mouse video dataset (See README.md for how the reduced dataset was generated.)\n",
    "data = np.load('reduced_mouse.npy')\n",
    "\n",
    "xs = None\n",
    "ys = data.T[None, ...]\n",
    "us = np.zeros((ys.shape[0], ys.shape[1], 1))\n",
    "xdim = ys.shape[-1]\n",
    "ydim = ys.shape[-1]\n",
    "udim = us.shape[-1]"
   ]
  },
  {
   "cell_type": "markdown",
   "metadata": {},
   "source": [
    "#### run the cell below for the example Neuropixels dataset"
   ]
  },
  {
   "cell_type": "code",
   "execution_count": 85,
   "metadata": {},
   "outputs": [],
   "source": [
    "# load the reduced Neuropixels dataset with the desired latent dimensions\n",
    "# (See README.md for how the reduced dataset was generated.)\n",
    "data = np.load('neuropixel_reduced.npz')['ssSVD10'] # you can change this to 'ssSVD20'\n",
    "\n",
    "xs = None\n",
    "ys = data.T[None, ...]\n",
    "us = np.zeros((ys.shape[0], ys.shape[1], 1))\n",
    "xdim = ys.shape[-1]\n",
    "ydim = ys.shape[-1]\n",
    "udim = us.shape[-1]"
   ]
  },
  {
   "cell_type": "markdown",
   "metadata": {},
   "source": [
    "## 4. Check your data dimension\n",
    "It should be\n",
    "`number of trials x number of time points x number of latent dimensions`"
   ]
  },
  {
   "cell_type": "code",
   "execution_count": 7,
   "metadata": {},
   "outputs": [
    {
     "data": {
      "text/plain": [
       "(1, 20000, 2)"
      ]
     },
     "execution_count": 7,
     "metadata": {},
     "output_type": "execute_result"
    }
   ],
   "source": [
    "ys.shape"
   ]
  },
  {
   "cell_type": "markdown",
   "metadata": {},
   "source": [
    "## 5. Training the model and calculating the log probs"
   ]
  },
  {
   "cell_type": "code",
   "execution_count": 8,
   "metadata": {},
   "outputs": [],
   "source": [
    "device = 'cpu'"
   ]
  },
  {
   "cell_type": "code",
   "execution_count": 9,
   "metadata": {},
   "outputs": [
    {
     "name": "stdout",
     "output_type": "stream",
     "text": [
      "{'A': (None, False),\n",
      " 'B': (array([[0.],\n",
      "       [0.]]), False),\n",
      " 'C': (None, True),\n",
      " 'Q': (1.0, True),\n",
      " 'R': (1.0, True),\n",
      " 'Udim': 1,\n",
      " 'Ydim': 1,\n",
      " 'activation': 'tanh',\n",
      " 'b': (None, True),\n",
      " 'batch_norm': False,\n",
      " 'clip_gradients': 5.0,\n",
      " 'debug': True,\n",
      " 'hdim': 100,\n",
      " 'likelihood': 'gaussian',\n",
      " 'lr': 0.001,\n",
      " 'optimizer': 'adam',\n",
      " 'path': '/Users/nayoungjun/workspace/neuralflow/models',\n",
      " 'random_seed': None,\n",
      " 'rdim': 50,\n",
      " 'recognizer': 'mlp',\n",
      " 'resume': False,\n",
      " 'system': 'rbf',\n",
      " 'udim': 1,\n",
      " 'xdim': 2,\n",
      " 'ydim': 2}\n",
      "Gaussian likelihood\n"
     ]
    }
   ],
   "source": [
    "likelihood = 'gaussian'  # Gaussian observation\n",
    "dynamics = 'rbf'  # RBF network dynamic model\n",
    "recognizer = \"mlp\"  # MLP recognitiom model\n",
    "rdim = 50  # number of RBFs\n",
    "hdim = 100  # number of MLP hidden units\n",
    "\n",
    "mdl = online.VJF(\n",
    "    config=dict(\n",
    "        resume=False,\n",
    "        xdim=xdim,\n",
    "        ydim=ydim,\n",
    "        udim=udim,\n",
    "        Ydim=udim,\n",
    "        Udim=udim,\n",
    "        rdim=rdim,\n",
    "        hdim=hdim,\n",
    "        lr=1e-3,\n",
    "        clip_gradients=5.0,\n",
    "        debug=True,\n",
    "        likelihood=likelihood,  # \n",
    "        system=dynamics,\n",
    "        recognizer=recognizer,\n",
    "        C=(None, True),  # loading matrix: (initial, estimate)\n",
    "        b=(None, True),  # bias: (initial, estimate)\n",
    "        A=(None, False),  # transition matrix if LDS\n",
    "        B=(np.zeros((xdim, udim)), False),  # interaction matrix\n",
    "        Q=(1.0, True),  # state noise\n",
    "        R=(1.0, True),  # observation noise\n",
    "    )\n",
    ").to(device)"
   ]
  },
  {
   "cell_type": "code",
   "execution_count": 10,
   "metadata": {},
   "outputs": [],
   "source": [
    "yy = torch.from_numpy(ys).float().to(device)\n",
    "uu = torch.from_numpy(us).float().to(device)\n",
    "\n",
    "q = None\n",
    "\n",
    "logprobs = []\n",
    "distances = []"
   ]
  },
  {
   "cell_type": "code",
   "execution_count": 11,
   "metadata": {},
   "outputs": [],
   "source": [
    "def diagonal_normal_logpdf(mean, variance, sample):\n",
    "    mean = mean.flatten()\n",
    "    variance = variance.flatten()\n",
    "    sample = sample.flatten()\n",
    "    \n",
    "    assert len(mean) == len(variance) == len(sample), f\"inconsistent shape: {mean.shape}, {variance.shape}, {sample.shape}\"\n",
    "    \n",
    "    logprobs = []\n",
    "    for i in range(len(sample)):\n",
    "        x = sample[i]\n",
    "        m = mean[i]\n",
    "        v = variance[i]\n",
    "        logprobs.append(-0.5 * ((x - m) ** 2 / v + np.log(2 * np.pi * v)))\n",
    "    return sum(logprobs)\n"
   ]
  },
  {
   "cell_type": "code",
   "execution_count": 12,
   "metadata": {},
   "outputs": [],
   "source": [
    "S = 1000  # number of trajectories\n",
    "T = 10   # length of each trajectory\n",
    "P = 1   # calculate T-step-ahead predictive distribution every P steps"
   ]
  },
  {
   "cell_type": "code",
   "execution_count": 13,
   "metadata": {},
   "outputs": [
    {
     "data": {
      "application/vnd.jupyter.widget-view+json": {
       "model_id": "bb4ae4af5ac7479db582c83204ee7927",
       "version_major": 2,
       "version_minor": 0
      },
      "text/plain": [
       "  0%|          | 0/1 [00:00<?, ?it/s]"
      ]
     },
     "metadata": {},
     "output_type": "display_data"
    },
    {
     "name": "stdout",
     "output_type": "stream",
     "text": [
      "{'A': (None, False),\n",
      " 'B': (array([[0.],\n",
      "       [0.]]), False),\n",
      " 'C': (None, True),\n",
      " 'Q': (1.0, True),\n",
      " 'R': (1.0, True),\n",
      " 'Udim': 1,\n",
      " 'Ydim': 1,\n",
      " 'activation': 'tanh',\n",
      " 'b': (None, True),\n",
      " 'batch_norm': False,\n",
      " 'clip_gradients': 5.0,\n",
      " 'debug': True,\n",
      " 'hdim': 100,\n",
      " 'likelihood': 'gaussian',\n",
      " 'lr': 0.001,\n",
      " 'optimizer': 'adam',\n",
      " 'path': '/Users/nayoungjun/workspace/neuralflow/models',\n",
      " 'random_seed': None,\n",
      " 'rdim': 50,\n",
      " 'recognizer': 'mlp',\n",
      " 'resume': False,\n",
      " 'system': 'rbf',\n",
      " 'udim': 1,\n",
      " 'xdim': 2,\n",
      " 'ydim': 2}\n",
      "Gaussian likelihood\n"
     ]
    },
    {
     "data": {
      "application/vnd.jupyter.widget-view+json": {
       "model_id": "4f8204c2aff14e39bbec2fb414b81393",
       "version_major": 2,
       "version_minor": 0
      },
      "text/plain": [
       "  0%|          | 0/20000 [00:00<?, ?it/s]"
      ]
     },
     "metadata": {},
     "output_type": "display_data"
    }
   ],
   "source": [
    "logprobs = []\n",
    "logprob_trajectories = []\n",
    "distances = []\n",
    "trial = 0\n",
    "\n",
    "\n",
    "for trial in trange(yy.shape[0]):\n",
    "    batch_size = 1\n",
    "    filtering_mu = torch.zeros(batch_size, xdim, device=device)\n",
    "    filtering_logvar = torch.zeros(batch_size, xdim, device=device)\n",
    "    q = filtering_mu, filtering_logvar\n",
    "    logprob_per_trial = []\n",
    "    logprob_trajectories_per_trial = []\n",
    "    \n",
    "    mdl = online.VJF(\n",
    "        config=dict(\n",
    "            resume=False,\n",
    "            xdim=xdim,\n",
    "            ydim=ydim,\n",
    "            udim=udim,\n",
    "            Ydim=udim,\n",
    "            Udim=udim,\n",
    "            rdim=rdim,\n",
    "            hdim=hdim,\n",
    "            lr=1e-3,\n",
    "            clip_gradients=5.0,\n",
    "            debug=True,\n",
    "            likelihood=likelihood,  # \n",
    "            system=dynamics,\n",
    "            recognizer=recognizer,\n",
    "            C=(None, True),  # loading matrix: (initial, estimate)\n",
    "            b=(None, True),  # bias: (initial, estimate)\n",
    "            A=(None, False),  # transition matrix if LDS\n",
    "            B=(np.zeros((xdim, udim)), False),  # interaction matrix\n",
    "            Q=(1.0, True),  # state noise\n",
    "            R=(1.0, True),  # observation noise\n",
    "        )\n",
    "    ).to(device)\n",
    "    \n",
    "    for time in trange(yy.shape[1]):\n",
    "\n",
    "        y = yy[trial, time].unsqueeze(0)\n",
    "        u = uu[trial, time].unsqueeze(0)\n",
    "        \n",
    "        filtering_mu, filtering_logvar = q\n",
    "\n",
    "        mu_f = filtering_mu[0].detach().cpu().numpy().T\n",
    "        var_f = filtering_logvar[0].detach().exp().cpu().numpy().T\n",
    "        Sigma_f = np.eye(xdim) * var_f\n",
    "\n",
    "        x = multivariate_normal(mu_f.flatten(), Sigma_f).rvs(size=S).astype(np.float32)\n",
    "        x = torch.from_numpy(x).to(device)\n",
    "        x += mdl.system.velocity(x) + mdl.system.noise.var ** 0.5 * torch.randn_like(x)\n",
    "        y_tilde = mdl.decoder(x).detach().cpu().numpy()\n",
    "\n",
    "        y_var = mdl.likelihood.logvar.detach().exp().cpu().numpy().T\n",
    "        sample_logprobs = [diagonal_normal_logpdf(y_, y_var, y.cpu().numpy()) for y_ in y_tilde]\n",
    "        logprob = logsumexp(sample_logprobs) - np.log(S)\n",
    "\n",
    "        logprob_per_trial.append(logprob)\n",
    "        distances.append(np.linalg.norm(y_tilde - y[0].cpu().numpy(), axis=-1).mean())\n",
    "        \n",
    "        \n",
    "        if time % P == 0 and time + T < yy.shape[1]:\n",
    "            # rolling-predict T-1 more steps\n",
    "            trajectory_logprobs = [logprob]\n",
    "            \n",
    "            \n",
    "            for tprime in range(time + 1, time + T):\n",
    "                y_tprime = yy[trial, tprime].unsqueeze(0)\n",
    "                u_tprime = uu[trial, tprime].unsqueeze(0)\n",
    "                \n",
    "                x += mdl.system.velocity(x) + mdl.system.noise.var ** 0.5 * torch.randn_like(x)\n",
    "                y_tilde = mdl.decoder(x).detach().cpu().numpy()\n",
    "                # y_var didn't change\n",
    "                \n",
    "                # cumulative sum on sample logprobs\n",
    "                new_sample_logprobs = [diagonal_normal_logpdf(y_, y_var, y_tprime.cpu().numpy()) for y_ in y_tilde]\n",
    "                sample_logprobs = [a + b for a, b in zip(sample_logprobs, new_sample_logprobs)]\n",
    "                \n",
    "                logprob = logsumexp(sample_logprobs) - np.log(S)\n",
    "                trajectory_logprobs.append(logprob)\n",
    "                \n",
    "            logprob_trajectories_per_trial.append(trajectory_logprobs)\n",
    "\n",
    "        q, loss = mdl.feed((y, u), q)\n",
    "\n",
    "    logprobs.append(logprob_per_trial)\n",
    "    logprob_trajectories.append(logprob_trajectories_per_trial)"
   ]
  },
  {
   "cell_type": "markdown",
   "metadata": {},
   "source": [
    "## 6. Save the log probabilities "
   ]
  },
  {
   "cell_type": "code",
   "execution_count": 20,
   "metadata": {},
   "outputs": [],
   "source": [
    "np.save('logprob_vjf_lorenz_0.05.npy', np.array(logprob_trajectories[0]))"
   ]
  },
  {
   "cell_type": "markdown",
   "metadata": {},
   "source": [
    "## 7. Plotting the log probability "
   ]
  },
  {
   "cell_type": "code",
   "execution_count": 38,
   "metadata": {},
   "outputs": [],
   "source": [
    "trajectory_logprobs = np.load('logprob_vjf_lorenz_0.05.npy')"
   ]
  },
  {
   "cell_type": "code",
   "execution_count": 39,
   "metadata": {},
   "outputs": [],
   "source": [
    "import pandas as pd\n",
    "def ewma(data, com):\n",
    "    return np.array(pd.DataFrame(data=dict(data=data)).ewm(com).mean()['data'])"
   ]
  },
  {
   "cell_type": "code",
   "execution_count": 52,
   "metadata": {},
   "outputs": [
    {
     "data": {
      "text/plain": [
       "(-2.0, 2.0)"
      ]
     },
     "execution_count": 52,
     "metadata": {},
     "output_type": "execute_result"
    },
    {
     "data": {
      "image/png": "[encoded data removed]",
      "text/plain": [
       "<Figure size 648x432 with 1 Axes>"
      ]
     },
     "metadata": {
      "needs_background": "light"
     },
     "output_type": "display_data"
    }
   ],
   "source": [
    "plt.figure(figsize=(9, 6))\n",
    "\n",
    "for i in range(trajectory_logprobs.shape[-1]):\n",
    "    curve = ewma(trajectory_logprobs[:, i], 100)\n",
    "    plt.plot(np.arange(len(curve)) * P, curve, label=f\"{i+1} step{'s' if i > 0 else ''} ahead\")\n",
    "    \n",
    "plt.legend(bbox_to_anchor=(1.01, 0.95))\n",
    "plt.ylabel(\"log probability\")\n",
    "plt.xlabel(\"time\")\n",
    "plt.ylim([-2, 2])"
   ]
  },
  {
   "cell_type": "markdown",
   "metadata": {},
   "source": [
    "## 8. Compute the mean and std of the last half of the time points (for Table 1)"
   ]
  },
  {
   "cell_type": "code",
   "execution_count": 46,
   "metadata": {},
   "outputs": [
    {
     "name": "stdout",
     "output_type": "stream",
     "text": [
      "1 step: -0.09206914916051928 0.46755113129434306\n",
      "2 step: -0.16165609190293986 0.8262654404427056\n",
      "3 step: -0.22268971047118918 1.1511026136055789\n",
      "4 step: -0.27348206459820085 1.4568003992448408\n",
      "5 step: -0.3219829688399637 1.7600829980145463\n",
      "6 step: -0.3789003444909611 2.0804858995652555\n",
      "7 step: -0.45961054896524156 2.444362432478006\n",
      "8 step: -0.57146432543136 2.8371904319146863\n",
      "9 step: -0.7299886841183005 3.290022236728938\n",
      "10 step: -0.9590682087453751 3.824620091176863\n"
     ]
    }
   ],
   "source": [
    "nn = trajectory_logprobs.shape[0]\n",
    "for i in range(10):\n",
    "    print(f\"{i+1} step:\", trajectory_logprobs[nn//2:, i].mean(), trajectory_logprobs[nn//2:, i].std())"
   ]
  },
  {
   "cell_type": "code",
   "execution_count": null,
   "metadata": {},
   "outputs": [],
   "source": []
  }
 ],
 "metadata": {
  "kernelspec": {
   "display_name": "Python 3 (ipykernel)",
   "language": "python",
   "name": "python3"
  },
  "language_info": {
   "codemirror_mode": {
    "name": "ipython",
    "version": 3
   },
   "file_extension": ".py",
   "mimetype": "text/x-python",
   "name": "python",
   "nbconvert_exporter": "python",
   "pygments_lexer": "ipython3",
   "version": "3.9.5"
  }
 },
 "nbformat": 4,
 "nbformat_minor": 2
}
