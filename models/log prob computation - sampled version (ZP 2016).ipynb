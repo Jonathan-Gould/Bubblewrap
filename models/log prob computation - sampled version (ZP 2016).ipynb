{
 "cells": [
  {
   "cell_type": "markdown",
   "metadata": {},
   "source": [
    "# Make sure we're using python 3.8+"
   ]
  },
  {
   "cell_type": "code",
   "execution_count": 434,
   "metadata": {},
   "outputs": [],
   "source": [
    "import os\n",
    "import sys\n",
    "\n",
    "sys.path.append(os.path.expanduser(\"~/workspace/neuralflow\"))\n",
    "\n",
    "assert sys.version_info >= (3, 8, 0), \"Python 3.8 or later required\""
   ]
  },
  {
   "cell_type": "code",
   "execution_count": 435,
   "metadata": {},
   "outputs": [],
   "source": [
    "import jax\n",
    "import jax.numpy as np\n",
    "import matplotlib.pyplot as plt\n",
    "from datagen.diffeq import gen_diffeq, vanderpol\n",
    "from jax.experimental.optimizers import adam\n",
    "from matplotlib.animation import FuncAnimation\n",
    "from models import kernels\n",
    "from scipy.integrate import solve_ivp\n",
    "from tqdm.notebook import tqdm, trange\n"
   ]
  },
  {
   "cell_type": "markdown",
   "metadata": {},
   "source": [
    "# Inline implementation of `RBFN` for modifications"
   ]
  },
  {
   "cell_type": "code",
   "execution_count": 436,
   "metadata": {},
   "outputs": [],
   "source": [
    "#%%\n",
    "\"\"\"\n",
    "An implementation of `Interpretable Nonlinear Dynamic Modeling of Neural Trajectories`\n",
    "Yuan Zhao, Il Memming Park, NIPS 2016\n",
    "\n",
    "Equations are exact matches to those in the paper.\n",
    "Generate data from a van der pol oscillator, fit with MSE, and draw vector field.\n",
    "Takes ~5 ms to run per step on a 4 GHz Coffee Lake CPU.\n",
    "\n",
    "\"\"\"\n",
    "\n",
    "from functools import partial\n",
    "from typing import Callable, Optional, Tuple, Dict\n",
    "\n",
    "import jax.numpy as jnp\n",
    "from jax import jit\n",
    "from jax import value_and_grad\n",
    "from jax.interpreters.xla import DeviceArray\n",
    "from jax.ops import index, index_update\n",
    "\n",
    "\n",
    "#%%\n",
    "class RBFN:\n",
    "    # When subclassing, don't forget class name in self._mse. Static method limitation.\n",
    "    def __init__(self, ker: Callable, params, optimizer: Tuple[Callable, ...], window=100) -> None:\n",
    "        assert {\"W\", \"τ\", \"c\", \"σ\"} <= params.keys()\n",
    "        assert params[\"W\"].shape == params[\"c\"].shape\n",
    "        assert params[\"W\"].shape[0] == params[\"σ\"].size\n",
    "        assert jnp.all(params[\"τ\"] > 0) and jnp.all(params[\"σ\"] > 0)\n",
    "\n",
    "        self.init_params, self.opt_update, self.get_params = optimizer\n",
    "        self.opt_update = jit(self.opt_update)\n",
    "        self.opt_state = self.init_params(params)\n",
    "\n",
    "        self.ker = ker\n",
    "        self._obj = self._mse_vgrad = jit(value_and_grad(self._mse, argnums=2, has_aux=True), static_argnums=0)\n",
    "        self.t = 1\n",
    "        self.window = window\n",
    "        self.mask = jnp.zeros((self.window - 1, 1))  # For online training. -1 since this is multiplied with x[:-1].\n",
    "\n",
    "    def reset(self):\n",
    "        self.t = 1\n",
    "        self.mask = jnp.zeros((self.window - 1, 1))\n",
    "        \n",
    "    @property\n",
    "    def params(self):\n",
    "        \"\"\"Params are in in PyTree in self.opt_state for optimizer.\"\"\"\n",
    "        return self.get_params(self.opt_state)\n",
    "\n",
    "    def g(self, x):\n",
    "        return self._g(self.ker, x, self.params)\n",
    "\n",
    "    def obj(self, x):\n",
    "        return self._obj(self.ker, x, self.params)\n",
    "\n",
    "    def step(self, x, loop=3, _mask=None, **kwargs):\n",
    "        for _ in range(loop):\n",
    "            (value, SE), grads = self._obj(self.ker, x, self.params, mask=_mask, **kwargs)\n",
    "            self.opt_state = self.opt_update(self.t, grads, self.opt_state)\n",
    "        self.t += 1\n",
    "        return value, SE\n",
    "\n",
    "    def step_online(self, x, loop=3, **kwargs):\n",
    "        \"\"\"\n",
    "        Assuming the role for splitting up data for online learning for now.\n",
    "        Pad for t=0...self.window.\n",
    "        \"\"\"\n",
    "        self.mask = index_update(self.mask, self.t - 1, 1.0)\n",
    "        if self.t < self.window:\n",
    "            z = index_update(jnp.zeros((self.window, x.shape[1])), index[: self.t + 1, :], x[: self.t + 1, :])\n",
    "        else:\n",
    "            z = x[self.t : self.t + self.window]\n",
    "        return self.step(z, loop, self.mask, **kwargs)\n",
    "\n",
    "    @staticmethod\n",
    "    @partial(jit, static_argnums=0)\n",
    "    def _g(ker, x, p: dict):\n",
    "        W, τ, c, σ = p[\"W\"], p[\"τ\"], p[\"c\"], p[\"σ\"]\n",
    "        return ker(x, c, σ) @ W - jnp.exp(-(τ ** 2)) * x  # (4)\n",
    "\n",
    "    @staticmethod\n",
    "    def _mse(ker: Callable, x: DeviceArray, p: Dict[str, DeviceArray], mask: Optional[DeviceArray]):\n",
    "        \"\"\"||g(x_{t-1}) + x_{t-1} - x_t||²\"\"\"\n",
    "        if mask is None:\n",
    "            SE = jnp.square(RBFN._g(ker, x[:-1], p) + x[:-1] - x[1:])\n",
    "            return jnp.mean(SE), jnp.mean(SE, axis=0)\n",
    "        SE = jnp.square(RBFN._g(ker, x[:-1], p) + x[:-1] - x[1:]) * mask\n",
    "        return jnp.sum(SE) / jnp.sum(mask), jnp.sum(SE, axis=0) / jnp.sum(mask, axis=0)\n",
    "\n",
    "# %%\n"
   ]
  },
  {
   "cell_type": "markdown",
   "metadata": {},
   "source": [
    "## Import the packages / functions"
   ]
  },
  {
   "cell_type": "code",
   "execution_count": 437,
   "metadata": {},
   "outputs": [],
   "source": [
    "import matplotlib as mpl\n",
    "# mpl.use(\"pgf\")\n",
    "%matplotlib inline\n",
    "# %matplotlib notebook\n",
    "import matplotlib.pyplot as plt\n",
    "from matplotlib import colors\n",
    "from mpl_toolkits.mplot3d import Axes3D\n",
    "import matplotlib.gridspec as gridspec\n",
    "from mpl_toolkits.axes_grid1 import make_axes_locatable\n",
    "\n",
    "import time\n",
    "\n",
    "import numpy as np\n",
    "import scipy as sp\n",
    "from scipy.stats import multivariate_normal\n",
    "from scipy.special import logsumexp\n",
    "from tqdm.notebook import trange\n",
    "from sklearn import decomposition\n",
    "from sklearn.linear_model import LinearRegression\n",
    "from functools import partial\n",
    "\n",
    "from tqdm.notebook import trange"
   ]
  },
  {
   "cell_type": "markdown",
   "metadata": {},
   "source": [
    "## Import the dataset (pick one!) "
   ]
  },
  {
   "cell_type": "markdown",
   "metadata": {},
   "source": [
    "#### run the cell below for the example lorenz attractor dataset "
   ]
  },
  {
   "cell_type": "code",
   "execution_count": 242,
   "metadata": {},
   "outputs": [],
   "source": [
    "# The data loading below is the lorenz attractor with (1 trajectory, 3dim, 500 to 20500 time points, with noise sd=0.05)\n",
    "data = np.load('lorenz_1trajectories_3dim_500to20500_noise0.05.npz')\n",
    "\n",
    "xs = data['x']  # state\n",
    "ys = data['y']  # observation\n",
    "us = data['u']  # control input\n",
    "xdim = xs.shape[-1]\n",
    "ydim = ys.shape[-1]\n",
    "udim = us.shape[-1]"
   ]
  },
  {
   "cell_type": "markdown",
   "metadata": {},
   "source": [
    "#### run the cell below for the example vanderpol dataset "
   ]
  },
  {
   "cell_type": "code",
   "execution_count": 288,
   "metadata": {},
   "outputs": [],
   "source": [
    "# The data loading below is the lorenz attractor with (1 trajectory, 3dim, 500 to 2500 time points, with noise sd=0.05)\n",
    "data = np.load('vdp_1trajectories_2dim_500to20500_noise0.2.npz')\n",
    "\n",
    "xs = data['x']  # state\n",
    "ys = data['y']  # observation\n",
    "us = data['u']  # control input\n",
    "xdim = xs.shape[-1]\n",
    "ydim = ys.shape[-1]\n",
    "udim = us.shape[-1]"
   ]
  },
  {
   "cell_type": "markdown",
   "metadata": {},
   "source": [
    "#### run the cell below for the example jPCA dataset"
   ]
  },
  {
   "cell_type": "code",
   "execution_count": 333,
   "metadata": {},
   "outputs": [
    {
     "name": "stdout",
     "output_type": "stream",
     "text": [
      "(1, 2268, 6)\n"
     ]
    }
   ],
   "source": [
    "data = np.load('jpca_reduced.npy')\n",
    "\n",
    "xs = None  # state\n",
    "ys = data  # observation\n",
    "ys = ys.reshape(1, -1, 6)\n",
    "print(ys.shape)\n",
    "us = np.zeros((ys.shape[0], ys.shape[1], 1))  # control input\n",
    "xdim = 6\n",
    "ydim = ys.shape[-1]\n",
    "udim = us.shape[-1]"
   ]
  },
  {
   "cell_type": "markdown",
   "metadata": {},
   "source": [
    "#### run the cell below for the example Neuropixel dataset"
   ]
  },
  {
   "cell_type": "code",
   "execution_count": 379,
   "metadata": {},
   "outputs": [],
   "source": [
    "data = np.load('neuropixel_reduced.npz')['ssSVD10'] # you can change this to 'ssSVD20'\n",
    "\n",
    "xs = None\n",
    "ys = data.T[None, ...]\n",
    "us = np.zeros((ys.shape[0], ys.shape[1], 1))\n",
    "xdim = ys.shape[-1]\n",
    "ydim = ys.shape[-1]\n",
    "udim = us.shape[-1]"
   ]
  },
  {
   "cell_type": "markdown",
   "metadata": {},
   "source": [
    "#### run the cell below for the reduced widefield calcium imaging dataset"
   ]
  },
  {
   "cell_type": "code",
   "execution_count": 415,
   "metadata": {},
   "outputs": [],
   "source": [
    "data = np.load('widefield_reduced.npy')\n",
    "\n",
    "xs = None\n",
    "ys = data.T[None, ...]\n",
    "us = np.zeros((ys.shape[0], ys.shape[1], 1))\n",
    "xdim = ys.shape[-1]\n",
    "ydim = ys.shape[-1]\n",
    "udim = us.shape[-1]"
   ]
  },
  {
   "cell_type": "markdown",
   "metadata": {},
   "source": [
    "#### run the cell below for the reduced mouse video dataset"
   ]
  },
  {
   "cell_type": "code",
   "execution_count": 438,
   "metadata": {},
   "outputs": [],
   "source": [
    "data = np.load('reduced_mouse.npy')\n",
    "\n",
    "xs = None\n",
    "ys = data.T[None, ...]\n",
    "us = np.zeros((ys.shape[0], ys.shape[1], 1))\n",
    "xdim = ys.shape[-1]\n",
    "ydim = ys.shape[-1]\n",
    "udim = us.shape[-1]"
   ]
  },
  {
   "cell_type": "markdown",
   "metadata": {},
   "source": [
    "#### Check your data dimension"
   ]
  },
  {
   "cell_type": "code",
   "execution_count": 439,
   "metadata": {},
   "outputs": [
    {
     "data": {
      "text/plain": [
       "(1, 89900, 2)"
      ]
     },
     "execution_count": 439,
     "metadata": {},
     "output_type": "execute_result"
    }
   ],
   "source": [
    "ys.shape"
   ]
  },
  {
   "cell_type": "markdown",
   "metadata": {},
   "source": [
    "## Model hyperparameters\n",
    "\n",
    "These are the defaults from the `neuralflow` codebase, NOT sure about what the original authors used. Updating these will impact logprobs"
   ]
  },
  {
   "cell_type": "code",
   "execution_count": 440,
   "metadata": {},
   "outputs": [],
   "source": [
    "window = 100              # the range the RBFN model sees in each update\n",
    "updates_per_input = 3     # number of Adam updates for each window\n",
    "kernel = kernels.rbf      # chosen from linear, rbf, matern32, matern52\n",
    "learning_rate = 2e-2      # Adam learning rate\n",
    "n_rbf = 50                # number of RBF kernels\n",
    "seed = 4                  # random seed"
   ]
  },
  {
   "cell_type": "markdown",
   "metadata": {},
   "source": [
    "## Training the model and calculating log probs"
   ]
  },
  {
   "cell_type": "code",
   "execution_count": 441,
   "metadata": {},
   "outputs": [],
   "source": [
    "def initial_parameters():\n",
    "    key = jax.random.PRNGKey(seed)\n",
    "    return {\n",
    "        \"W\": (W := 0.1 * jax.random.normal(key, shape=(n_rbf, ydim))),\n",
    "        \"τ\": (τ := np.abs(jax.random.normal(key))),\n",
    "        \"c\": (c := jax.random.normal(key, shape=(n_rbf, ydim))),\n",
    "        \"σ\": (σ := np.ones(n_rbf) * ydim),\n",
    "    }\n",
    "\n",
    "net = RBFN(kernel, initial_parameters(), adam(learning_rate), window=window)"
   ]
  },
  {
   "cell_type": "code",
   "execution_count": 442,
   "metadata": {},
   "outputs": [
    {
     "data": {
      "application/vnd.jupyter.widget-view+json": {
       "model_id": "fd37c9fd6cda4a3598bc1cf8732f44f1",
       "version_major": 2,
       "version_minor": 0
      },
      "text/plain": [
       "Epochs 0:   0%|          | 0/89800 [00:00<?, ?it/s]"
      ]
     },
     "metadata": {},
     "output_type": "display_data"
    }
   ],
   "source": [
    "yy = ys[0]\n",
    "\n",
    "MSEs = []\n",
    "SEs = []\n",
    "SE_ewma = None\n",
    "\n",
    "steps_per_epoch = yy.shape[0] - window\n",
    "TC = 1000\n",
    "\n",
    "logprobs = []\n",
    "    \n",
    "for epoch in range(1):\n",
    "    net.reset()\n",
    "    with trange(steps_per_epoch, desc=f\"Epochs {epoch}\") as loop:\n",
    "        for i in loop:\n",
    "            mse, SE = net.step_online(yy, loop=updates_per_input)\n",
    "            if SE_ewma is None:\n",
    "                SE_ewma = SE\n",
    "            else:\n",
    "                SE_ewma = SE_ewma + 1 / TC * (SE - SE_ewma)\n",
    "                \n",
    "            logprob = -0.5 * (SE / SE_ewma + np.log(2 * SE_ewma * np.pi)).sum()  # logprob of normal distribution\n",
    "            logprobs.append(logprob)\n",
    "        \n",
    "            loop.set_postfix(mse=mse, logprob=logprob)\n",
    "            MSEs.append(mse)\n",
    "            SEs.append(SE)\n"
   ]
  },
  {
   "cell_type": "code",
   "execution_count": 443,
   "metadata": {},
   "outputs": [
    {
     "data": {
      "image/png": "[encoded data removed]",
      "text/plain": [
       "<Figure size 432x288 with 1 Axes>"
      ]
     },
     "metadata": {
      "needs_background": "light"
     },
     "output_type": "display_data"
    }
   ],
   "source": [
    "plt.plot(MSEs)\n",
    "plt.xlabel(\"iterations\")\n",
    "plt.ylabel(\"loss (MSE)\")\n",
    "plt.yscale(\"log\")"
   ]
  },
  {
   "cell_type": "code",
   "execution_count": 444,
   "metadata": {},
   "outputs": [
    {
     "data": {
      "image/png": "[encoded data removed]",
      "text/plain": [
       "<Figure size 432x288 with 1 Axes>"
      ]
     },
     "metadata": {
      "needs_background": "light"
     },
     "output_type": "display_data"
    }
   ],
   "source": [
    "plt.plot(SEs)\n",
    "plt.xlabel(\"iterations\")\n",
    "plt.ylabel(\"MSE per dimension\")\n",
    "plt.yscale(\"log\")"
   ]
  },
  {
   "cell_type": "code",
   "execution_count": 445,
   "metadata": {},
   "outputs": [
    {
     "data": {
      "text/plain": [
       "Text(0, 0.5, 'logprobs')"
      ]
     },
     "execution_count": 445,
     "metadata": {},
     "output_type": "execute_result"
    },
    {
     "data": {
      "image/png": "[encoded data removed]",
      "text/plain": [
       "<Figure size 432x288 with 1 Axes>"
      ]
     },
     "metadata": {
      "needs_background": "light"
     },
     "output_type": "display_data"
    }
   ],
   "source": [
    "plt.plot(logprobs)\n",
    "plt.xlabel(\"iterations\")\n",
    "plt.ylabel(\"logprobs\")"
   ]
  },
  {
   "cell_type": "code",
   "execution_count": 446,
   "metadata": {},
   "outputs": [],
   "source": [
    "np.save('logprob_zp2016_mouse.npy', np.array(logprobs))"
   ]
  },
  {
   "cell_type": "markdown",
   "metadata": {},
   "source": [
    "## Plotting the log probability "
   ]
  },
  {
   "cell_type": "code",
   "execution_count": 449,
   "metadata": {},
   "outputs": [],
   "source": [
    "zp2016 = np.load('logprob_zp2016_mouse.npy')"
   ]
  },
  {
   "cell_type": "code",
   "execution_count": 450,
   "metadata": {},
   "outputs": [],
   "source": [
    "vjf = np.load('logprob_vjf_mouse.npy')"
   ]
  },
  {
   "cell_type": "code",
   "execution_count": 358,
   "metadata": {},
   "outputs": [],
   "source": [
    "bwrap = np.load('jpca_bubblewrap_results_updated.npy')"
   ]
  },
  {
   "cell_type": "code",
   "execution_count": 453,
   "metadata": {},
   "outputs": [
    {
     "data": {
      "text/plain": [
       "(-25.0, -8.0)"
      ]
     },
     "execution_count": 453,
     "metadata": {},
     "output_type": "execute_result"
    },
    {
     "data": {
      "image/png": "[encoded data removed]",
      "text/plain": [
       "<Figure size 432x288 with 1 Axes>"
      ]
     },
     "metadata": {
      "needs_background": "light"
     },
     "output_type": "display_data"
    }
   ],
   "source": [
    "import pandas as pd\n",
    "def ewma(data, com):\n",
    "    return np.array(pd.DataFrame(data=dict(data=data)).ewm(com).mean()['data'])\n",
    "\n",
    "nn = vjf.shape[0]\n",
    "plt.plot(vjf, color='grey', alpha=0.2)\n",
    "#plt.plot(bwrap, color='lightblue', alpha=0.2)\n",
    "plt.plot(np.linspace(100, nn - 1, nn - 100), zp2016, color='red', alpha=0.2)\n",
    "\n",
    "ax = plt.gca()\n",
    "ax.plot(np.linspace(100, nn - 1, nn - 100), ewma(zp2016, 100), color='red', label='ZP2016')\n",
    "ax.plot(ewma(vjf, 100), color='black', label='vjf')\n",
    "#ax.plot(ewma(bwrap, 100), color='blue', label='bubblewrap')\n",
    "ax.ticklabel_format(useOffset=False, style='plain')\n",
    "ax.set_xlabel('time step')\n",
    "ax.set_ylabel('log probability')\n",
    "ax.set_title('predictive log probability at each time step')\n",
    "ax.legend()\n",
    "\n",
    "ax.set_ylim([-25,-8])"
   ]
  },
  {
   "cell_type": "code",
   "execution_count": 454,
   "metadata": {},
   "outputs": [],
   "source": [
    "nn = vjf.shape[0]"
   ]
  },
  {
   "cell_type": "code",
   "execution_count": 455,
   "metadata": {},
   "outputs": [
    {
     "data": {
      "text/plain": [
       "(-10.748633, 0.7983803)"
      ]
     },
     "execution_count": 455,
     "metadata": {},
     "output_type": "execute_result"
    }
   ],
   "source": [
    "zp2016[nn//2 - 100:].mean(), zp2016[nn//2 - 100:].std()"
   ]
  },
  {
   "cell_type": "code",
   "execution_count": 456,
   "metadata": {},
   "outputs": [
    {
     "data": {
      "text/plain": [
       "(-15.861211078506471, 1.0841115077550716)"
      ]
     },
     "execution_count": 456,
     "metadata": {},
     "output_type": "execute_result"
    }
   ],
   "source": [
    "vjf[nn//2:].mean(), vjf[nn//2:].std()"
   ]
  },
  {
   "cell_type": "code",
   "execution_count": 325,
   "metadata": {},
   "outputs": [
    {
     "data": {
      "text/plain": [
       "(2.1898453, 2.4751472)"
      ]
     },
     "execution_count": 325,
     "metadata": {},
     "output_type": "execute_result"
    }
   ],
   "source": [
    "bwrap[nn//2:].mean(), bwrap[nn//2:].std()"
   ]
  },
  {
   "cell_type": "code",
   "execution_count": null,
   "metadata": {},
   "outputs": [],
   "source": []
  }
 ],
 "metadata": {
  "kernelspec": {
   "display_name": "Python 3",
   "language": "python",
   "name": "python3"
  },
  "language_info": {
   "codemirror_mode": {
    "name": "ipython",
    "version": 3
   },
   "file_extension": ".py",
   "mimetype": "text/x-python",
   "name": "python",
   "nbconvert_exporter": "python",
   "pygments_lexer": "ipython3",
   "version": "3.8.10"
  }
 },
 "nbformat": 4,
 "nbformat_minor": 2
}
